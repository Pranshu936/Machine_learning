{
  "nbformat": 4,
  "nbformat_minor": 0,
  "metadata": {
    "colab": {
      "provenance": [],
      "gpuType": "T4"
    },
    "kernelspec": {
      "name": "python3",
      "display_name": "Python 3"
    },
    "language_info": {
      "name": "python"
    },
    "accelerator": "GPU"
  },
  "cells": [
    {
      "cell_type": "markdown",
      "metadata": {
        "id": "70435156"
      },
      "source": [
        "## Load the data\n",
        "\n",
        "\n"
      ]
    },
    {
      "cell_type": "code",
      "metadata": {
        "id": "e79ae585"
      },
      "source": [
        "import pandas as pd\n",
        "\n",
        "df = pd.read_csv('/content/Amazon_bestsellers_items_2025.csv')"
      ],
      "execution_count": 3,
      "outputs": []
    },
    {
      "cell_type": "markdown",
      "metadata": {
        "id": "16d95897"
      },
      "source": [
        "## Explore the data\n",
        "\n",
        "\n"
      ]
    },
    {
      "cell_type": "code",
      "metadata": {
        "colab": {
          "base_uri": "https://localhost:8080/",
          "height": 1000
        },
        "id": "4375b61a",
        "outputId": "5915070b-7312-44a4-a6dd-7246554b9ffa"
      },
      "source": [
        "display(df.head())\n",
        "df.info()\n",
        "display(df.describe())\n",
        "display(df.isnull().sum())\n",
        "print(df.dtypes)"
      ],
      "execution_count": 4,
      "outputs": [
        {
          "output_type": "display_data",
          "data": {
            "text/plain": [
              "   Unnamed: 0  rank        asin  \\\n",
              "0           0     1  B073VKKNN9   \n",
              "1           1     2  B07PQZJ6Y8   \n",
              "2           2     3  B0D1KL34JM   \n",
              "3           3     4  B07B9YYLGG   \n",
              "4           4     5  B073VLGMZ4   \n",
              "\n",
              "                                       product_title product_price  \\\n",
              "0  Kaspersky | Premium - Total Security (Ultimate...       ₹469.00   \n",
              "1  K7 Security K7, Total Security, 1 User, 1 Year...       ₹370.00   \n",
              "2  Microsoft Office 2021 Professional - Lifetime ...     ₹1,799.00   \n",
              "3  Bitdefender - 1 Device,1 Year - Mobile Securit...        ₹94.00   \n",
              "4  McAfee Total Protection 2025 | 1 Device, 3 Yea...     ₹1,699.00   \n",
              "\n",
              "   product_star_rating  product_num_ratings  \\\n",
              "0                  4.3              13324.0   \n",
              "1                  4.4               2291.0   \n",
              "2                  4.5                388.0   \n",
              "3                  4.1               9630.0   \n",
              "4                  4.4               5783.0   \n",
              "\n",
              "                           product_url  \\\n",
              "0  https://www.amazon.in/dp/B073VKKNN9   \n",
              "1  https://www.amazon.in/dp/B07PQZJ6Y8   \n",
              "2  https://www.amazon.in/dp/B0D1KL34JM   \n",
              "3  https://www.amazon.in/dp/B07B9YYLGG   \n",
              "4  https://www.amazon.in/dp/B073VLGMZ4   \n",
              "\n",
              "                                       product_photo  rank_change_label  \\\n",
              "0  https://images-eu.ssl-images-amazon.com/images...                NaN   \n",
              "1  https://images-eu.ssl-images-amazon.com/images...                NaN   \n",
              "2  https://images-eu.ssl-images-amazon.com/images...                NaN   \n",
              "3  https://images-eu.ssl-images-amazon.com/images...                NaN   \n",
              "4  https://images-eu.ssl-images-amazon.com/images...                NaN   \n",
              "\n",
              "  country  page  \n",
              "0      IN     1  \n",
              "1      IN     1  \n",
              "2      IN     1  \n",
              "3      IN     1  \n",
              "4      IN     1  "
            ],
            "text/html": [
              "\n",
              "  <div id=\"df-22ad4a42-f0e9-4ff0-842d-ac29c33308d1\" class=\"colab-df-container\">\n",
              "    <div>\n",
              "<style scoped>\n",
              "    .dataframe tbody tr th:only-of-type {\n",
              "        vertical-align: middle;\n",
              "    }\n",
              "\n",
              "    .dataframe tbody tr th {\n",
              "        vertical-align: top;\n",
              "    }\n",
              "\n",
              "    .dataframe thead th {\n",
              "        text-align: right;\n",
              "    }\n",
              "</style>\n",
              "<table border=\"1\" class=\"dataframe\">\n",
              "  <thead>\n",
              "    <tr style=\"text-align: right;\">\n",
              "      <th></th>\n",
              "      <th>Unnamed: 0</th>\n",
              "      <th>rank</th>\n",
              "      <th>asin</th>\n",
              "      <th>product_title</th>\n",
              "      <th>product_price</th>\n",
              "      <th>product_star_rating</th>\n",
              "      <th>product_num_ratings</th>\n",
              "      <th>product_url</th>\n",
              "      <th>product_photo</th>\n",
              "      <th>rank_change_label</th>\n",
              "      <th>country</th>\n",
              "      <th>page</th>\n",
              "    </tr>\n",
              "  </thead>\n",
              "  <tbody>\n",
              "    <tr>\n",
              "      <th>0</th>\n",
              "      <td>0</td>\n",
              "      <td>1</td>\n",
              "      <td>B073VKKNN9</td>\n",
              "      <td>Kaspersky | Premium - Total Security (Ultimate...</td>\n",
              "      <td>₹469.00</td>\n",
              "      <td>4.3</td>\n",
              "      <td>13324.0</td>\n",
              "      <td>https://www.amazon.in/dp/B073VKKNN9</td>\n",
              "      <td>https://images-eu.ssl-images-amazon.com/images...</td>\n",
              "      <td>NaN</td>\n",
              "      <td>IN</td>\n",
              "      <td>1</td>\n",
              "    </tr>\n",
              "    <tr>\n",
              "      <th>1</th>\n",
              "      <td>1</td>\n",
              "      <td>2</td>\n",
              "      <td>B07PQZJ6Y8</td>\n",
              "      <td>K7 Security K7, Total Security, 1 User, 1 Year...</td>\n",
              "      <td>₹370.00</td>\n",
              "      <td>4.4</td>\n",
              "      <td>2291.0</td>\n",
              "      <td>https://www.amazon.in/dp/B07PQZJ6Y8</td>\n",
              "      <td>https://images-eu.ssl-images-amazon.com/images...</td>\n",
              "      <td>NaN</td>\n",
              "      <td>IN</td>\n",
              "      <td>1</td>\n",
              "    </tr>\n",
              "    <tr>\n",
              "      <th>2</th>\n",
              "      <td>2</td>\n",
              "      <td>3</td>\n",
              "      <td>B0D1KL34JM</td>\n",
              "      <td>Microsoft Office 2021 Professional - Lifetime ...</td>\n",
              "      <td>₹1,799.00</td>\n",
              "      <td>4.5</td>\n",
              "      <td>388.0</td>\n",
              "      <td>https://www.amazon.in/dp/B0D1KL34JM</td>\n",
              "      <td>https://images-eu.ssl-images-amazon.com/images...</td>\n",
              "      <td>NaN</td>\n",
              "      <td>IN</td>\n",
              "      <td>1</td>\n",
              "    </tr>\n",
              "    <tr>\n",
              "      <th>3</th>\n",
              "      <td>3</td>\n",
              "      <td>4</td>\n",
              "      <td>B07B9YYLGG</td>\n",
              "      <td>Bitdefender - 1 Device,1 Year - Mobile Securit...</td>\n",
              "      <td>₹94.00</td>\n",
              "      <td>4.1</td>\n",
              "      <td>9630.0</td>\n",
              "      <td>https://www.amazon.in/dp/B07B9YYLGG</td>\n",
              "      <td>https://images-eu.ssl-images-amazon.com/images...</td>\n",
              "      <td>NaN</td>\n",
              "      <td>IN</td>\n",
              "      <td>1</td>\n",
              "    </tr>\n",
              "    <tr>\n",
              "      <th>4</th>\n",
              "      <td>4</td>\n",
              "      <td>5</td>\n",
              "      <td>B073VLGMZ4</td>\n",
              "      <td>McAfee Total Protection 2025 | 1 Device, 3 Yea...</td>\n",
              "      <td>₹1,699.00</td>\n",
              "      <td>4.4</td>\n",
              "      <td>5783.0</td>\n",
              "      <td>https://www.amazon.in/dp/B073VLGMZ4</td>\n",
              "      <td>https://images-eu.ssl-images-amazon.com/images...</td>\n",
              "      <td>NaN</td>\n",
              "      <td>IN</td>\n",
              "      <td>1</td>\n",
              "    </tr>\n",
              "  </tbody>\n",
              "</table>\n",
              "</div>\n",
              "    <div class=\"colab-df-buttons\">\n",
              "\n",
              "  <div class=\"colab-df-container\">\n",
              "    <button class=\"colab-df-convert\" onclick=\"convertToInteractive('df-22ad4a42-f0e9-4ff0-842d-ac29c33308d1')\"\n",
              "            title=\"Convert this dataframe to an interactive table.\"\n",
              "            style=\"display:none;\">\n",
              "\n",
              "  <svg xmlns=\"http://www.w3.org/2000/svg\" height=\"24px\" viewBox=\"0 -960 960 960\">\n",
              "    <path d=\"M120-120v-720h720v720H120Zm60-500h600v-160H180v160Zm220 220h160v-160H400v160Zm0 220h160v-160H400v160ZM180-400h160v-160H180v160Zm440 0h160v-160H620v160ZM180-180h160v-160H180v160Zm440 0h160v-160H620v160Z\"/>\n",
              "  </svg>\n",
              "    </button>\n",
              "\n",
              "  <style>\n",
              "    .colab-df-container {\n",
              "      display:flex;\n",
              "      gap: 12px;\n",
              "    }\n",
              "\n",
              "    .colab-df-convert {\n",
              "      background-color: #E8F0FE;\n",
              "      border: none;\n",
              "      border-radius: 50%;\n",
              "      cursor: pointer;\n",
              "      display: none;\n",
              "      fill: #1967D2;\n",
              "      height: 32px;\n",
              "      padding: 0 0 0 0;\n",
              "      width: 32px;\n",
              "    }\n",
              "\n",
              "    .colab-df-convert:hover {\n",
              "      background-color: #E2EBFA;\n",
              "      box-shadow: 0px 1px 2px rgba(60, 64, 67, 0.3), 0px 1px 3px 1px rgba(60, 64, 67, 0.15);\n",
              "      fill: #174EA6;\n",
              "    }\n",
              "\n",
              "    .colab-df-buttons div {\n",
              "      margin-bottom: 4px;\n",
              "    }\n",
              "\n",
              "    [theme=dark] .colab-df-convert {\n",
              "      background-color: #3B4455;\n",
              "      fill: #D2E3FC;\n",
              "    }\n",
              "\n",
              "    [theme=dark] .colab-df-convert:hover {\n",
              "      background-color: #434B5C;\n",
              "      box-shadow: 0px 1px 3px 1px rgba(0, 0, 0, 0.15);\n",
              "      filter: drop-shadow(0px 1px 2px rgba(0, 0, 0, 0.3));\n",
              "      fill: #FFFFFF;\n",
              "    }\n",
              "  </style>\n",
              "\n",
              "    <script>\n",
              "      const buttonEl =\n",
              "        document.querySelector('#df-22ad4a42-f0e9-4ff0-842d-ac29c33308d1 button.colab-df-convert');\n",
              "      buttonEl.style.display =\n",
              "        google.colab.kernel.accessAllowed ? 'block' : 'none';\n",
              "\n",
              "      async function convertToInteractive(key) {\n",
              "        const element = document.querySelector('#df-22ad4a42-f0e9-4ff0-842d-ac29c33308d1');\n",
              "        const dataTable =\n",
              "          await google.colab.kernel.invokeFunction('convertToInteractive',\n",
              "                                                    [key], {});\n",
              "        if (!dataTable) return;\n",
              "\n",
              "        const docLinkHtml = 'Like what you see? Visit the ' +\n",
              "          '<a target=\"_blank\" href=https://colab.research.google.com/notebooks/data_table.ipynb>data table notebook</a>'\n",
              "          + ' to learn more about interactive tables.';\n",
              "        element.innerHTML = '';\n",
              "        dataTable['output_type'] = 'display_data';\n",
              "        await google.colab.output.renderOutput(dataTable, element);\n",
              "        const docLink = document.createElement('div');\n",
              "        docLink.innerHTML = docLinkHtml;\n",
              "        element.appendChild(docLink);\n",
              "      }\n",
              "    </script>\n",
              "  </div>\n",
              "\n",
              "\n",
              "    <div id=\"df-24a3a117-51d3-448b-914d-f6d179a04f3a\">\n",
              "      <button class=\"colab-df-quickchart\" onclick=\"quickchart('df-24a3a117-51d3-448b-914d-f6d179a04f3a')\"\n",
              "                title=\"Suggest charts\"\n",
              "                style=\"display:none;\">\n",
              "\n",
              "<svg xmlns=\"http://www.w3.org/2000/svg\" height=\"24px\"viewBox=\"0 0 24 24\"\n",
              "     width=\"24px\">\n",
              "    <g>\n",
              "        <path d=\"M19 3H5c-1.1 0-2 .9-2 2v14c0 1.1.9 2 2 2h14c1.1 0 2-.9 2-2V5c0-1.1-.9-2-2-2zM9 17H7v-7h2v7zm4 0h-2V7h2v10zm4 0h-2v-4h2v4z\"/>\n",
              "    </g>\n",
              "</svg>\n",
              "      </button>\n",
              "\n",
              "<style>\n",
              "  .colab-df-quickchart {\n",
              "      --bg-color: #E8F0FE;\n",
              "      --fill-color: #1967D2;\n",
              "      --hover-bg-color: #E2EBFA;\n",
              "      --hover-fill-color: #174EA6;\n",
              "      --disabled-fill-color: #AAA;\n",
              "      --disabled-bg-color: #DDD;\n",
              "  }\n",
              "\n",
              "  [theme=dark] .colab-df-quickchart {\n",
              "      --bg-color: #3B4455;\n",
              "      --fill-color: #D2E3FC;\n",
              "      --hover-bg-color: #434B5C;\n",
              "      --hover-fill-color: #FFFFFF;\n",
              "      --disabled-bg-color: #3B4455;\n",
              "      --disabled-fill-color: #666;\n",
              "  }\n",
              "\n",
              "  .colab-df-quickchart {\n",
              "    background-color: var(--bg-color);\n",
              "    border: none;\n",
              "    border-radius: 50%;\n",
              "    cursor: pointer;\n",
              "    display: none;\n",
              "    fill: var(--fill-color);\n",
              "    height: 32px;\n",
              "    padding: 0;\n",
              "    width: 32px;\n",
              "  }\n",
              "\n",
              "  .colab-df-quickchart:hover {\n",
              "    background-color: var(--hover-bg-color);\n",
              "    box-shadow: 0 1px 2px rgba(60, 64, 67, 0.3), 0 1px 3px 1px rgba(60, 64, 67, 0.15);\n",
              "    fill: var(--button-hover-fill-color);\n",
              "  }\n",
              "\n",
              "  .colab-df-quickchart-complete:disabled,\n",
              "  .colab-df-quickchart-complete:disabled:hover {\n",
              "    background-color: var(--disabled-bg-color);\n",
              "    fill: var(--disabled-fill-color);\n",
              "    box-shadow: none;\n",
              "  }\n",
              "\n",
              "  .colab-df-spinner {\n",
              "    border: 2px solid var(--fill-color);\n",
              "    border-color: transparent;\n",
              "    border-bottom-color: var(--fill-color);\n",
              "    animation:\n",
              "      spin 1s steps(1) infinite;\n",
              "  }\n",
              "\n",
              "  @keyframes spin {\n",
              "    0% {\n",
              "      border-color: transparent;\n",
              "      border-bottom-color: var(--fill-color);\n",
              "      border-left-color: var(--fill-color);\n",
              "    }\n",
              "    20% {\n",
              "      border-color: transparent;\n",
              "      border-left-color: var(--fill-color);\n",
              "      border-top-color: var(--fill-color);\n",
              "    }\n",
              "    30% {\n",
              "      border-color: transparent;\n",
              "      border-left-color: var(--fill-color);\n",
              "      border-top-color: var(--fill-color);\n",
              "      border-right-color: var(--fill-color);\n",
              "    }\n",
              "    40% {\n",
              "      border-color: transparent;\n",
              "      border-right-color: var(--fill-color);\n",
              "      border-top-color: var(--fill-color);\n",
              "    }\n",
              "    60% {\n",
              "      border-color: transparent;\n",
              "      border-right-color: var(--fill-color);\n",
              "    }\n",
              "    80% {\n",
              "      border-color: transparent;\n",
              "      border-right-color: var(--fill-color);\n",
              "      border-bottom-color: var(--fill-color);\n",
              "    }\n",
              "    90% {\n",
              "      border-color: transparent;\n",
              "      border-bottom-color: var(--fill-color);\n",
              "    }\n",
              "  }\n",
              "</style>\n",
              "\n",
              "      <script>\n",
              "        async function quickchart(key) {\n",
              "          const quickchartButtonEl =\n",
              "            document.querySelector('#' + key + ' button');\n",
              "          quickchartButtonEl.disabled = true;  // To prevent multiple clicks.\n",
              "          quickchartButtonEl.classList.add('colab-df-spinner');\n",
              "          try {\n",
              "            const charts = await google.colab.kernel.invokeFunction(\n",
              "                'suggestCharts', [key], {});\n",
              "          } catch (error) {\n",
              "            console.error('Error during call to suggestCharts:', error);\n",
              "          }\n",
              "          quickchartButtonEl.classList.remove('colab-df-spinner');\n",
              "          quickchartButtonEl.classList.add('colab-df-quickchart-complete');\n",
              "        }\n",
              "        (() => {\n",
              "          let quickchartButtonEl =\n",
              "            document.querySelector('#df-24a3a117-51d3-448b-914d-f6d179a04f3a button');\n",
              "          quickchartButtonEl.style.display =\n",
              "            google.colab.kernel.accessAllowed ? 'block' : 'none';\n",
              "        })();\n",
              "      </script>\n",
              "    </div>\n",
              "\n",
              "    </div>\n",
              "  </div>\n"
            ],
            "application/vnd.google.colaboratory.intrinsic+json": {
              "type": "dataframe",
              "summary": "{\n  \"name\": \"print(df\",\n  \"rows\": 5,\n  \"fields\": [\n    {\n      \"column\": \"Unnamed: 0\",\n      \"properties\": {\n        \"dtype\": \"number\",\n        \"std\": 1,\n        \"min\": 0,\n        \"max\": 4,\n        \"num_unique_values\": 5,\n        \"samples\": [\n          1,\n          4,\n          2\n        ],\n        \"semantic_type\": \"\",\n        \"description\": \"\"\n      }\n    },\n    {\n      \"column\": \"rank\",\n      \"properties\": {\n        \"dtype\": \"number\",\n        \"std\": 1,\n        \"min\": 1,\n        \"max\": 5,\n        \"num_unique_values\": 5,\n        \"samples\": [\n          2,\n          5,\n          3\n        ],\n        \"semantic_type\": \"\",\n        \"description\": \"\"\n      }\n    },\n    {\n      \"column\": \"asin\",\n      \"properties\": {\n        \"dtype\": \"string\",\n        \"num_unique_values\": 5,\n        \"samples\": [\n          \"B07PQZJ6Y8\",\n          \"B073VLGMZ4\",\n          \"B0D1KL34JM\"\n        ],\n        \"semantic_type\": \"\",\n        \"description\": \"\"\n      }\n    },\n    {\n      \"column\": \"product_title\",\n      \"properties\": {\n        \"dtype\": \"string\",\n        \"num_unique_values\": 5,\n        \"samples\": [\n          \"K7 Security K7, Total Security, 1 User, 1 Year, Email Delivery In 30 Min, No Cd\",\n          \"McAfee Total Protection 2025 | 1 Device, 3 Years | Antivirus Internet Security Software | Scam Protection & Identity Monitori\",\n          \"Microsoft Office 2021 Professional - Lifetime Validity - Windows only - Email delivery in 2 Hours- no CD - Email Bind Key\"\n        ],\n        \"semantic_type\": \"\",\n        \"description\": \"\"\n      }\n    },\n    {\n      \"column\": \"product_price\",\n      \"properties\": {\n        \"dtype\": \"string\",\n        \"num_unique_values\": 5,\n        \"samples\": [\n          \"\\u20b9370.00\",\n          \"\\u20b91,699.00\",\n          \"\\u20b91,799.00\"\n        ],\n        \"semantic_type\": \"\",\n        \"description\": \"\"\n      }\n    },\n    {\n      \"column\": \"product_star_rating\",\n      \"properties\": {\n        \"dtype\": \"number\",\n        \"std\": 0.15165750888103124,\n        \"min\": 4.1,\n        \"max\": 4.5,\n        \"num_unique_values\": 4,\n        \"samples\": [\n          4.4,\n          4.1,\n          4.3\n        ],\n        \"semantic_type\": \"\",\n        \"description\": \"\"\n      }\n    },\n    {\n      \"column\": \"product_num_ratings\",\n      \"properties\": {\n        \"dtype\": \"number\",\n        \"std\": 5284.770070684249,\n        \"min\": 388.0,\n        \"max\": 13324.0,\n        \"num_unique_values\": 5,\n        \"samples\": [\n          2291.0,\n          5783.0,\n          388.0\n        ],\n        \"semantic_type\": \"\",\n        \"description\": \"\"\n      }\n    },\n    {\n      \"column\": \"product_url\",\n      \"properties\": {\n        \"dtype\": \"string\",\n        \"num_unique_values\": 5,\n        \"samples\": [\n          \"https://www.amazon.in/dp/B07PQZJ6Y8\",\n          \"https://www.amazon.in/dp/B073VLGMZ4\",\n          \"https://www.amazon.in/dp/B0D1KL34JM\"\n        ],\n        \"semantic_type\": \"\",\n        \"description\": \"\"\n      }\n    },\n    {\n      \"column\": \"product_photo\",\n      \"properties\": {\n        \"dtype\": \"string\",\n        \"num_unique_values\": 5,\n        \"samples\": [\n          \"https://images-eu.ssl-images-amazon.com/images/I/51HB079HbPS._AC_UL900_SR900,600_.jpg\",\n          \"https://images-eu.ssl-images-amazon.com/images/I/51WS+IgtDKL._AC_UL900_SR900,600_.jpg\",\n          \"https://images-eu.ssl-images-amazon.com/images/I/51kuNOifu-L._AC_UL900_SR900,600_.jpg\"\n        ],\n        \"semantic_type\": \"\",\n        \"description\": \"\"\n      }\n    },\n    {\n      \"column\": \"rank_change_label\",\n      \"properties\": {\n        \"dtype\": \"number\",\n        \"std\": null,\n        \"min\": null,\n        \"max\": null,\n        \"num_unique_values\": 0,\n        \"samples\": [],\n        \"semantic_type\": \"\",\n        \"description\": \"\"\n      }\n    },\n    {\n      \"column\": \"country\",\n      \"properties\": {\n        \"dtype\": \"category\",\n        \"num_unique_values\": 1,\n        \"samples\": [],\n        \"semantic_type\": \"\",\n        \"description\": \"\"\n      }\n    },\n    {\n      \"column\": \"page\",\n      \"properties\": {\n        \"dtype\": \"number\",\n        \"std\": 0,\n        \"min\": 1,\n        \"max\": 1,\n        \"num_unique_values\": 1,\n        \"samples\": [],\n        \"semantic_type\": \"\",\n        \"description\": \"\"\n      }\n    }\n  ]\n}"
            }
          },
          "metadata": {}
        },
        {
          "output_type": "stream",
          "name": "stdout",
          "text": [
            "<class 'pandas.core.frame.DataFrame'>\n",
            "RangeIndex: 999 entries, 0 to 998\n",
            "Data columns (total 12 columns):\n",
            " #   Column               Non-Null Count  Dtype  \n",
            "---  ------               --------------  -----  \n",
            " 0   Unnamed: 0           999 non-null    int64  \n",
            " 1   rank                 999 non-null    int64  \n",
            " 2   asin                 999 non-null    object \n",
            " 3   product_title        999 non-null    object \n",
            " 4   product_price        945 non-null    object \n",
            " 5   product_star_rating  969 non-null    float64\n",
            " 6   product_num_ratings  969 non-null    float64\n",
            " 7   product_url          999 non-null    object \n",
            " 8   product_photo        999 non-null    object \n",
            " 9   rank_change_label    0 non-null      float64\n",
            " 10  country              999 non-null    object \n",
            " 11  page                 999 non-null    int64  \n",
            "dtypes: float64(3), int64(3), object(6)\n",
            "memory usage: 93.8+ KB\n"
          ]
        },
        {
          "output_type": "display_data",
          "data": {
            "text/plain": [
              "       Unnamed: 0        rank  product_star_rating  product_num_ratings  \\\n",
              "count  999.000000  999.000000           969.000000           969.000000   \n",
              "mean   499.000000   50.450450             4.140248          1312.546956   \n",
              "std    288.530761   28.852421             0.496382          3025.241537   \n",
              "min      0.000000    1.000000             1.000000             1.000000   \n",
              "25%    249.500000   25.500000             3.900000            54.000000   \n",
              "50%    499.000000   50.000000             4.200000           218.000000   \n",
              "75%    748.500000   75.000000             4.400000          1009.000000   \n",
              "max    998.000000  100.000000             5.000000         19189.000000   \n",
              "\n",
              "       rank_change_label        page  \n",
              "count                0.0  999.000000  \n",
              "mean                 NaN    1.499499  \n",
              "std                  NaN    0.500250  \n",
              "min                  NaN    1.000000  \n",
              "25%                  NaN    1.000000  \n",
              "50%                  NaN    1.000000  \n",
              "75%                  NaN    2.000000  \n",
              "max                  NaN    2.000000  "
            ],
            "text/html": [
              "\n",
              "  <div id=\"df-c320a8ed-8374-4e42-8174-2c27bc5997d0\" class=\"colab-df-container\">\n",
              "    <div>\n",
              "<style scoped>\n",
              "    .dataframe tbody tr th:only-of-type {\n",
              "        vertical-align: middle;\n",
              "    }\n",
              "\n",
              "    .dataframe tbody tr th {\n",
              "        vertical-align: top;\n",
              "    }\n",
              "\n",
              "    .dataframe thead th {\n",
              "        text-align: right;\n",
              "    }\n",
              "</style>\n",
              "<table border=\"1\" class=\"dataframe\">\n",
              "  <thead>\n",
              "    <tr style=\"text-align: right;\">\n",
              "      <th></th>\n",
              "      <th>Unnamed: 0</th>\n",
              "      <th>rank</th>\n",
              "      <th>product_star_rating</th>\n",
              "      <th>product_num_ratings</th>\n",
              "      <th>rank_change_label</th>\n",
              "      <th>page</th>\n",
              "    </tr>\n",
              "  </thead>\n",
              "  <tbody>\n",
              "    <tr>\n",
              "      <th>count</th>\n",
              "      <td>999.000000</td>\n",
              "      <td>999.000000</td>\n",
              "      <td>969.000000</td>\n",
              "      <td>969.000000</td>\n",
              "      <td>0.0</td>\n",
              "      <td>999.000000</td>\n",
              "    </tr>\n",
              "    <tr>\n",
              "      <th>mean</th>\n",
              "      <td>499.000000</td>\n",
              "      <td>50.450450</td>\n",
              "      <td>4.140248</td>\n",
              "      <td>1312.546956</td>\n",
              "      <td>NaN</td>\n",
              "      <td>1.499499</td>\n",
              "    </tr>\n",
              "    <tr>\n",
              "      <th>std</th>\n",
              "      <td>288.530761</td>\n",
              "      <td>28.852421</td>\n",
              "      <td>0.496382</td>\n",
              "      <td>3025.241537</td>\n",
              "      <td>NaN</td>\n",
              "      <td>0.500250</td>\n",
              "    </tr>\n",
              "    <tr>\n",
              "      <th>min</th>\n",
              "      <td>0.000000</td>\n",
              "      <td>1.000000</td>\n",
              "      <td>1.000000</td>\n",
              "      <td>1.000000</td>\n",
              "      <td>NaN</td>\n",
              "      <td>1.000000</td>\n",
              "    </tr>\n",
              "    <tr>\n",
              "      <th>25%</th>\n",
              "      <td>249.500000</td>\n",
              "      <td>25.500000</td>\n",
              "      <td>3.900000</td>\n",
              "      <td>54.000000</td>\n",
              "      <td>NaN</td>\n",
              "      <td>1.000000</td>\n",
              "    </tr>\n",
              "    <tr>\n",
              "      <th>50%</th>\n",
              "      <td>499.000000</td>\n",
              "      <td>50.000000</td>\n",
              "      <td>4.200000</td>\n",
              "      <td>218.000000</td>\n",
              "      <td>NaN</td>\n",
              "      <td>1.000000</td>\n",
              "    </tr>\n",
              "    <tr>\n",
              "      <th>75%</th>\n",
              "      <td>748.500000</td>\n",
              "      <td>75.000000</td>\n",
              "      <td>4.400000</td>\n",
              "      <td>1009.000000</td>\n",
              "      <td>NaN</td>\n",
              "      <td>2.000000</td>\n",
              "    </tr>\n",
              "    <tr>\n",
              "      <th>max</th>\n",
              "      <td>998.000000</td>\n",
              "      <td>100.000000</td>\n",
              "      <td>5.000000</td>\n",
              "      <td>19189.000000</td>\n",
              "      <td>NaN</td>\n",
              "      <td>2.000000</td>\n",
              "    </tr>\n",
              "  </tbody>\n",
              "</table>\n",
              "</div>\n",
              "    <div class=\"colab-df-buttons\">\n",
              "\n",
              "  <div class=\"colab-df-container\">\n",
              "    <button class=\"colab-df-convert\" onclick=\"convertToInteractive('df-c320a8ed-8374-4e42-8174-2c27bc5997d0')\"\n",
              "            title=\"Convert this dataframe to an interactive table.\"\n",
              "            style=\"display:none;\">\n",
              "\n",
              "  <svg xmlns=\"http://www.w3.org/2000/svg\" height=\"24px\" viewBox=\"0 -960 960 960\">\n",
              "    <path d=\"M120-120v-720h720v720H120Zm60-500h600v-160H180v160Zm220 220h160v-160H400v160Zm0 220h160v-160H400v160ZM180-400h160v-160H180v160Zm440 0h160v-160H620v160ZM180-180h160v-160H180v160Zm440 0h160v-160H620v160Z\"/>\n",
              "  </svg>\n",
              "    </button>\n",
              "\n",
              "  <style>\n",
              "    .colab-df-container {\n",
              "      display:flex;\n",
              "      gap: 12px;\n",
              "    }\n",
              "\n",
              "    .colab-df-convert {\n",
              "      background-color: #E8F0FE;\n",
              "      border: none;\n",
              "      border-radius: 50%;\n",
              "      cursor: pointer;\n",
              "      display: none;\n",
              "      fill: #1967D2;\n",
              "      height: 32px;\n",
              "      padding: 0 0 0 0;\n",
              "      width: 32px;\n",
              "    }\n",
              "\n",
              "    .colab-df-convert:hover {\n",
              "      background-color: #E2EBFA;\n",
              "      box-shadow: 0px 1px 2px rgba(60, 64, 67, 0.3), 0px 1px 3px 1px rgba(60, 64, 67, 0.15);\n",
              "      fill: #174EA6;\n",
              "    }\n",
              "\n",
              "    .colab-df-buttons div {\n",
              "      margin-bottom: 4px;\n",
              "    }\n",
              "\n",
              "    [theme=dark] .colab-df-convert {\n",
              "      background-color: #3B4455;\n",
              "      fill: #D2E3FC;\n",
              "    }\n",
              "\n",
              "    [theme=dark] .colab-df-convert:hover {\n",
              "      background-color: #434B5C;\n",
              "      box-shadow: 0px 1px 3px 1px rgba(0, 0, 0, 0.15);\n",
              "      filter: drop-shadow(0px 1px 2px rgba(0, 0, 0, 0.3));\n",
              "      fill: #FFFFFF;\n",
              "    }\n",
              "  </style>\n",
              "\n",
              "    <script>\n",
              "      const buttonEl =\n",
              "        document.querySelector('#df-c320a8ed-8374-4e42-8174-2c27bc5997d0 button.colab-df-convert');\n",
              "      buttonEl.style.display =\n",
              "        google.colab.kernel.accessAllowed ? 'block' : 'none';\n",
              "\n",
              "      async function convertToInteractive(key) {\n",
              "        const element = document.querySelector('#df-c320a8ed-8374-4e42-8174-2c27bc5997d0');\n",
              "        const dataTable =\n",
              "          await google.colab.kernel.invokeFunction('convertToInteractive',\n",
              "                                                    [key], {});\n",
              "        if (!dataTable) return;\n",
              "\n",
              "        const docLinkHtml = 'Like what you see? Visit the ' +\n",
              "          '<a target=\"_blank\" href=https://colab.research.google.com/notebooks/data_table.ipynb>data table notebook</a>'\n",
              "          + ' to learn more about interactive tables.';\n",
              "        element.innerHTML = '';\n",
              "        dataTable['output_type'] = 'display_data';\n",
              "        await google.colab.output.renderOutput(dataTable, element);\n",
              "        const docLink = document.createElement('div');\n",
              "        docLink.innerHTML = docLinkHtml;\n",
              "        element.appendChild(docLink);\n",
              "      }\n",
              "    </script>\n",
              "  </div>\n",
              "\n",
              "\n",
              "    <div id=\"df-4471a72b-cbf3-4966-99ad-9466aa24cd5c\">\n",
              "      <button class=\"colab-df-quickchart\" onclick=\"quickchart('df-4471a72b-cbf3-4966-99ad-9466aa24cd5c')\"\n",
              "                title=\"Suggest charts\"\n",
              "                style=\"display:none;\">\n",
              "\n",
              "<svg xmlns=\"http://www.w3.org/2000/svg\" height=\"24px\"viewBox=\"0 0 24 24\"\n",
              "     width=\"24px\">\n",
              "    <g>\n",
              "        <path d=\"M19 3H5c-1.1 0-2 .9-2 2v14c0 1.1.9 2 2 2h14c1.1 0 2-.9 2-2V5c0-1.1-.9-2-2-2zM9 17H7v-7h2v7zm4 0h-2V7h2v10zm4 0h-2v-4h2v4z\"/>\n",
              "    </g>\n",
              "</svg>\n",
              "      </button>\n",
              "\n",
              "<style>\n",
              "  .colab-df-quickchart {\n",
              "      --bg-color: #E8F0FE;\n",
              "      --fill-color: #1967D2;\n",
              "      --hover-bg-color: #E2EBFA;\n",
              "      --hover-fill-color: #174EA6;\n",
              "      --disabled-fill-color: #AAA;\n",
              "      --disabled-bg-color: #DDD;\n",
              "  }\n",
              "\n",
              "  [theme=dark] .colab-df-quickchart {\n",
              "      --bg-color: #3B4455;\n",
              "      --fill-color: #D2E3FC;\n",
              "      --hover-bg-color: #434B5C;\n",
              "      --hover-fill-color: #FFFFFF;\n",
              "      --disabled-bg-color: #3B4455;\n",
              "      --disabled-fill-color: #666;\n",
              "  }\n",
              "\n",
              "  .colab-df-quickchart {\n",
              "    background-color: var(--bg-color);\n",
              "    border: none;\n",
              "    border-radius: 50%;\n",
              "    cursor: pointer;\n",
              "    display: none;\n",
              "    fill: var(--fill-color);\n",
              "    height: 32px;\n",
              "    padding: 0;\n",
              "    width: 32px;\n",
              "  }\n",
              "\n",
              "  .colab-df-quickchart:hover {\n",
              "    background-color: var(--hover-bg-color);\n",
              "    box-shadow: 0 1px 2px rgba(60, 64, 67, 0.3), 0 1px 3px 1px rgba(60, 64, 67, 0.15);\n",
              "    fill: var(--button-hover-fill-color);\n",
              "  }\n",
              "\n",
              "  .colab-df-quickchart-complete:disabled,\n",
              "  .colab-df-quickchart-complete:disabled:hover {\n",
              "    background-color: var(--disabled-bg-color);\n",
              "    fill: var(--disabled-fill-color);\n",
              "    box-shadow: none;\n",
              "  }\n",
              "\n",
              "  .colab-df-spinner {\n",
              "    border: 2px solid var(--fill-color);\n",
              "    border-color: transparent;\n",
              "    border-bottom-color: var(--fill-color);\n",
              "    animation:\n",
              "      spin 1s steps(1) infinite;\n",
              "  }\n",
              "\n",
              "  @keyframes spin {\n",
              "    0% {\n",
              "      border-color: transparent;\n",
              "      border-bottom-color: var(--fill-color);\n",
              "      border-left-color: var(--fill-color);\n",
              "    }\n",
              "    20% {\n",
              "      border-color: transparent;\n",
              "      border-left-color: var(--fill-color);\n",
              "      border-top-color: var(--fill-color);\n",
              "    }\n",
              "    30% {\n",
              "      border-color: transparent;\n",
              "      border-left-color: var(--fill-color);\n",
              "      border-top-color: var(--fill-color);\n",
              "      border-right-color: var(--fill-color);\n",
              "    }\n",
              "    40% {\n",
              "      border-color: transparent;\n",
              "      border-right-color: var(--fill-color);\n",
              "      border-top-color: var(--fill-color);\n",
              "    }\n",
              "    60% {\n",
              "      border-color: transparent;\n",
              "      border-right-color: var(--fill-color);\n",
              "    }\n",
              "    80% {\n",
              "      border-color: transparent;\n",
              "      border-right-color: var(--fill-color);\n",
              "      border-bottom-color: var(--fill-color);\n",
              "    }\n",
              "    90% {\n",
              "      border-color: transparent;\n",
              "      border-bottom-color: var(--fill-color);\n",
              "    }\n",
              "  }\n",
              "</style>\n",
              "\n",
              "      <script>\n",
              "        async function quickchart(key) {\n",
              "          const quickchartButtonEl =\n",
              "            document.querySelector('#' + key + ' button');\n",
              "          quickchartButtonEl.disabled = true;  // To prevent multiple clicks.\n",
              "          quickchartButtonEl.classList.add('colab-df-spinner');\n",
              "          try {\n",
              "            const charts = await google.colab.kernel.invokeFunction(\n",
              "                'suggestCharts', [key], {});\n",
              "          } catch (error) {\n",
              "            console.error('Error during call to suggestCharts:', error);\n",
              "          }\n",
              "          quickchartButtonEl.classList.remove('colab-df-spinner');\n",
              "          quickchartButtonEl.classList.add('colab-df-quickchart-complete');\n",
              "        }\n",
              "        (() => {\n",
              "          let quickchartButtonEl =\n",
              "            document.querySelector('#df-4471a72b-cbf3-4966-99ad-9466aa24cd5c button');\n",
              "          quickchartButtonEl.style.display =\n",
              "            google.colab.kernel.accessAllowed ? 'block' : 'none';\n",
              "        })();\n",
              "      </script>\n",
              "    </div>\n",
              "\n",
              "    </div>\n",
              "  </div>\n"
            ],
            "application/vnd.google.colaboratory.intrinsic+json": {
              "type": "dataframe",
              "summary": "{\n  \"name\": \"print(df\",\n  \"rows\": 8,\n  \"fields\": [\n    {\n      \"column\": \"Unnamed: 0\",\n      \"properties\": {\n        \"dtype\": \"number\",\n        \"std\": 359.82561111630343,\n        \"min\": 0.0,\n        \"max\": 999.0,\n        \"num_unique_values\": 7,\n        \"samples\": [\n          999.0,\n          499.0,\n          748.5\n        ],\n        \"semantic_type\": \"\",\n        \"description\": \"\"\n      }\n    },\n    {\n      \"column\": \"rank\",\n      \"properties\": {\n        \"dtype\": \"number\",\n        \"std\": 337.8731800158916,\n        \"min\": 1.0,\n        \"max\": 999.0,\n        \"num_unique_values\": 8,\n        \"samples\": [\n          50.450450450450454,\n          50.0,\n          999.0\n        ],\n        \"semantic_type\": \"\",\n        \"description\": \"\"\n      }\n    },\n    {\n      \"column\": \"product_star_rating\",\n      \"properties\": {\n        \"dtype\": \"number\",\n        \"std\": 341.4286605217412,\n        \"min\": 0.4963818891886971,\n        \"max\": 969.0,\n        \"num_unique_values\": 8,\n        \"samples\": [\n          4.140247678018576,\n          4.2,\n          969.0\n        ],\n        \"semantic_type\": \"\",\n        \"description\": \"\"\n      }\n    },\n    {\n      \"column\": \"product_num_ratings\",\n      \"properties\": {\n        \"dtype\": \"number\",\n        \"std\": 6525.097398522558,\n        \"min\": 1.0,\n        \"max\": 19189.0,\n        \"num_unique_values\": 8,\n        \"samples\": [\n          1312.546955624355,\n          218.0,\n          969.0\n        ],\n        \"semantic_type\": \"\",\n        \"description\": \"\"\n      }\n    },\n    {\n      \"column\": \"rank_change_label\",\n      \"properties\": {\n        \"dtype\": \"number\",\n        \"std\": null,\n        \"min\": 0.0,\n        \"max\": 0.0,\n        \"num_unique_values\": 1,\n        \"samples\": [\n          0.0\n        ],\n        \"semantic_type\": \"\",\n        \"description\": \"\"\n      }\n    },\n    {\n      \"column\": \"page\",\n      \"properties\": {\n        \"dtype\": \"number\",\n        \"std\": 352.7456716000168,\n        \"min\": 0.5002501876563858,\n        \"max\": 999.0,\n        \"num_unique_values\": 5,\n        \"samples\": [\n          1.4994994994994995\n        ],\n        \"semantic_type\": \"\",\n        \"description\": \"\"\n      }\n    }\n  ]\n}"
            }
          },
          "metadata": {}
        },
        {
          "output_type": "display_data",
          "data": {
            "text/plain": [
              "Unnamed: 0               0\n",
              "rank                     0\n",
              "asin                     0\n",
              "product_title            0\n",
              "product_price           54\n",
              "product_star_rating     30\n",
              "product_num_ratings     30\n",
              "product_url              0\n",
              "product_photo            0\n",
              "rank_change_label      999\n",
              "country                  0\n",
              "page                     0\n",
              "dtype: int64"
            ],
            "text/html": [
              "<div>\n",
              "<style scoped>\n",
              "    .dataframe tbody tr th:only-of-type {\n",
              "        vertical-align: middle;\n",
              "    }\n",
              "\n",
              "    .dataframe tbody tr th {\n",
              "        vertical-align: top;\n",
              "    }\n",
              "\n",
              "    .dataframe thead th {\n",
              "        text-align: right;\n",
              "    }\n",
              "</style>\n",
              "<table border=\"1\" class=\"dataframe\">\n",
              "  <thead>\n",
              "    <tr style=\"text-align: right;\">\n",
              "      <th></th>\n",
              "      <th>0</th>\n",
              "    </tr>\n",
              "  </thead>\n",
              "  <tbody>\n",
              "    <tr>\n",
              "      <th>Unnamed: 0</th>\n",
              "      <td>0</td>\n",
              "    </tr>\n",
              "    <tr>\n",
              "      <th>rank</th>\n",
              "      <td>0</td>\n",
              "    </tr>\n",
              "    <tr>\n",
              "      <th>asin</th>\n",
              "      <td>0</td>\n",
              "    </tr>\n",
              "    <tr>\n",
              "      <th>product_title</th>\n",
              "      <td>0</td>\n",
              "    </tr>\n",
              "    <tr>\n",
              "      <th>product_price</th>\n",
              "      <td>54</td>\n",
              "    </tr>\n",
              "    <tr>\n",
              "      <th>product_star_rating</th>\n",
              "      <td>30</td>\n",
              "    </tr>\n",
              "    <tr>\n",
              "      <th>product_num_ratings</th>\n",
              "      <td>30</td>\n",
              "    </tr>\n",
              "    <tr>\n",
              "      <th>product_url</th>\n",
              "      <td>0</td>\n",
              "    </tr>\n",
              "    <tr>\n",
              "      <th>product_photo</th>\n",
              "      <td>0</td>\n",
              "    </tr>\n",
              "    <tr>\n",
              "      <th>rank_change_label</th>\n",
              "      <td>999</td>\n",
              "    </tr>\n",
              "    <tr>\n",
              "      <th>country</th>\n",
              "      <td>0</td>\n",
              "    </tr>\n",
              "    <tr>\n",
              "      <th>page</th>\n",
              "      <td>0</td>\n",
              "    </tr>\n",
              "  </tbody>\n",
              "</table>\n",
              "</div><br><label><b>dtype:</b> int64</label>"
            ]
          },
          "metadata": {}
        },
        {
          "output_type": "stream",
          "name": "stdout",
          "text": [
            "Unnamed: 0               int64\n",
            "rank                     int64\n",
            "asin                    object\n",
            "product_title           object\n",
            "product_price           object\n",
            "product_star_rating    float64\n",
            "product_num_ratings    float64\n",
            "product_url             object\n",
            "product_photo           object\n",
            "rank_change_label      float64\n",
            "country                 object\n",
            "page                     int64\n",
            "dtype: object\n"
          ]
        }
      ]
    },
    {
      "cell_type": "markdown",
      "metadata": {
        "id": "8658cfb6"
      },
      "source": [
        "## Clean the data\n",
        "\n"
      ]
    },
    {
      "cell_type": "code",
      "metadata": {
        "colab": {
          "base_uri": "https://localhost:8080/",
          "height": 429
        },
        "id": "3975adab",
        "outputId": "7b5a6060-e3c7-448a-dc92-e9904906f2ad"
      },
      "source": [
        "df = df.drop('rank_change_label', axis=1)\n",
        "df = df.dropna(subset=['product_price', 'product_star_rating', 'product_num_ratings'])\n",
        "df.isnull().sum()"
      ],
      "execution_count": 5,
      "outputs": [
        {
          "output_type": "execute_result",
          "data": {
            "text/plain": [
              "Unnamed: 0             0\n",
              "rank                   0\n",
              "asin                   0\n",
              "product_title          0\n",
              "product_price          0\n",
              "product_star_rating    0\n",
              "product_num_ratings    0\n",
              "product_url            0\n",
              "product_photo          0\n",
              "country                0\n",
              "page                   0\n",
              "dtype: int64"
            ],
            "text/html": [
              "<div>\n",
              "<style scoped>\n",
              "    .dataframe tbody tr th:only-of-type {\n",
              "        vertical-align: middle;\n",
              "    }\n",
              "\n",
              "    .dataframe tbody tr th {\n",
              "        vertical-align: top;\n",
              "    }\n",
              "\n",
              "    .dataframe thead th {\n",
              "        text-align: right;\n",
              "    }\n",
              "</style>\n",
              "<table border=\"1\" class=\"dataframe\">\n",
              "  <thead>\n",
              "    <tr style=\"text-align: right;\">\n",
              "      <th></th>\n",
              "      <th>0</th>\n",
              "    </tr>\n",
              "  </thead>\n",
              "  <tbody>\n",
              "    <tr>\n",
              "      <th>Unnamed: 0</th>\n",
              "      <td>0</td>\n",
              "    </tr>\n",
              "    <tr>\n",
              "      <th>rank</th>\n",
              "      <td>0</td>\n",
              "    </tr>\n",
              "    <tr>\n",
              "      <th>asin</th>\n",
              "      <td>0</td>\n",
              "    </tr>\n",
              "    <tr>\n",
              "      <th>product_title</th>\n",
              "      <td>0</td>\n",
              "    </tr>\n",
              "    <tr>\n",
              "      <th>product_price</th>\n",
              "      <td>0</td>\n",
              "    </tr>\n",
              "    <tr>\n",
              "      <th>product_star_rating</th>\n",
              "      <td>0</td>\n",
              "    </tr>\n",
              "    <tr>\n",
              "      <th>product_num_ratings</th>\n",
              "      <td>0</td>\n",
              "    </tr>\n",
              "    <tr>\n",
              "      <th>product_url</th>\n",
              "      <td>0</td>\n",
              "    </tr>\n",
              "    <tr>\n",
              "      <th>product_photo</th>\n",
              "      <td>0</td>\n",
              "    </tr>\n",
              "    <tr>\n",
              "      <th>country</th>\n",
              "      <td>0</td>\n",
              "    </tr>\n",
              "    <tr>\n",
              "      <th>page</th>\n",
              "      <td>0</td>\n",
              "    </tr>\n",
              "  </tbody>\n",
              "</table>\n",
              "</div><br><label><b>dtype:</b> int64</label>"
            ]
          },
          "metadata": {},
          "execution_count": 5
        }
      ]
    },
    {
      "cell_type": "code",
      "metadata": {
        "colab": {
          "base_uri": "https://localhost:8080/",
          "height": 300
        },
        "id": "ucdt7A8e1EjL",
        "outputId": "78af8c4b-73d1-4349-f517-295476175704"
      },
      "source": [
        "df['product_price'] = df['product_price'].astype(str).str.replace('₹', '').str.replace('$', '').str.replace(',', '').str.replace('€', '').str.replace('￥', '').str.strip()\n",
        "df['product_price'] = pd.to_numeric(df['product_price'])\n",
        "\n",
        "numerical_cols = ['product_price', 'product_star_rating', 'product_num_ratings']\n",
        "\n",
        "for col in numerical_cols:\n",
        "    Q1 = df[col].quantile(0.25)\n",
        "    Q3 = df[col].quantile(0.75)\n",
        "    IQR = Q3 - Q1\n",
        "    lower_bound = Q1 - 1.5 * IQR\n",
        "    upper_bound = Q3 + 1.5 * IQR\n",
        "    df = df[(df[col] >= lower_bound) & (df[col] <= upper_bound)]\n",
        "\n",
        "display(df[numerical_cols].describe())"
      ],
      "execution_count": 6,
      "outputs": [
        {
          "output_type": "display_data",
          "data": {
            "text/plain": [
              "       product_price  product_star_rating  product_num_ratings\n",
              "count     695.000000           695.000000           695.000000\n",
              "mean     2096.589381             4.189784           461.035971\n",
              "std      2253.967023             0.411116           571.614247\n",
              "min         2.990000             3.200000             1.000000\n",
              "25%       103.995000             3.900000            63.000000\n",
              "50%      1511.000000             4.200000           193.000000\n",
              "75%      3323.500000             4.500000           702.000000\n",
              "max      9719.000000             5.000000          2617.000000"
            ],
            "text/html": [
              "\n",
              "  <div id=\"df-07f28d2b-6203-4314-b8f8-26e2f82ab7e7\" class=\"colab-df-container\">\n",
              "    <div>\n",
              "<style scoped>\n",
              "    .dataframe tbody tr th:only-of-type {\n",
              "        vertical-align: middle;\n",
              "    }\n",
              "\n",
              "    .dataframe tbody tr th {\n",
              "        vertical-align: top;\n",
              "    }\n",
              "\n",
              "    .dataframe thead th {\n",
              "        text-align: right;\n",
              "    }\n",
              "</style>\n",
              "<table border=\"1\" class=\"dataframe\">\n",
              "  <thead>\n",
              "    <tr style=\"text-align: right;\">\n",
              "      <th></th>\n",
              "      <th>product_price</th>\n",
              "      <th>product_star_rating</th>\n",
              "      <th>product_num_ratings</th>\n",
              "    </tr>\n",
              "  </thead>\n",
              "  <tbody>\n",
              "    <tr>\n",
              "      <th>count</th>\n",
              "      <td>695.000000</td>\n",
              "      <td>695.000000</td>\n",
              "      <td>695.000000</td>\n",
              "    </tr>\n",
              "    <tr>\n",
              "      <th>mean</th>\n",
              "      <td>2096.589381</td>\n",
              "      <td>4.189784</td>\n",
              "      <td>461.035971</td>\n",
              "    </tr>\n",
              "    <tr>\n",
              "      <th>std</th>\n",
              "      <td>2253.967023</td>\n",
              "      <td>0.411116</td>\n",
              "      <td>571.614247</td>\n",
              "    </tr>\n",
              "    <tr>\n",
              "      <th>min</th>\n",
              "      <td>2.990000</td>\n",
              "      <td>3.200000</td>\n",
              "      <td>1.000000</td>\n",
              "    </tr>\n",
              "    <tr>\n",
              "      <th>25%</th>\n",
              "      <td>103.995000</td>\n",
              "      <td>3.900000</td>\n",
              "      <td>63.000000</td>\n",
              "    </tr>\n",
              "    <tr>\n",
              "      <th>50%</th>\n",
              "      <td>1511.000000</td>\n",
              "      <td>4.200000</td>\n",
              "      <td>193.000000</td>\n",
              "    </tr>\n",
              "    <tr>\n",
              "      <th>75%</th>\n",
              "      <td>3323.500000</td>\n",
              "      <td>4.500000</td>\n",
              "      <td>702.000000</td>\n",
              "    </tr>\n",
              "    <tr>\n",
              "      <th>max</th>\n",
              "      <td>9719.000000</td>\n",
              "      <td>5.000000</td>\n",
              "      <td>2617.000000</td>\n",
              "    </tr>\n",
              "  </tbody>\n",
              "</table>\n",
              "</div>\n",
              "    <div class=\"colab-df-buttons\">\n",
              "\n",
              "  <div class=\"colab-df-container\">\n",
              "    <button class=\"colab-df-convert\" onclick=\"convertToInteractive('df-07f28d2b-6203-4314-b8f8-26e2f82ab7e7')\"\n",
              "            title=\"Convert this dataframe to an interactive table.\"\n",
              "            style=\"display:none;\">\n",
              "\n",
              "  <svg xmlns=\"http://www.w3.org/2000/svg\" height=\"24px\" viewBox=\"0 -960 960 960\">\n",
              "    <path d=\"M120-120v-720h720v720H120Zm60-500h600v-160H180v160Zm220 220h160v-160H400v160Zm0 220h160v-160H400v160ZM180-400h160v-160H180v160Zm440 0h160v-160H620v160ZM180-180h160v-160H180v160Zm440 0h160v-160H620v160Z\"/>\n",
              "  </svg>\n",
              "    </button>\n",
              "\n",
              "  <style>\n",
              "    .colab-df-container {\n",
              "      display:flex;\n",
              "      gap: 12px;\n",
              "    }\n",
              "\n",
              "    .colab-df-convert {\n",
              "      background-color: #E8F0FE;\n",
              "      border: none;\n",
              "      border-radius: 50%;\n",
              "      cursor: pointer;\n",
              "      display: none;\n",
              "      fill: #1967D2;\n",
              "      height: 32px;\n",
              "      padding: 0 0 0 0;\n",
              "      width: 32px;\n",
              "    }\n",
              "\n",
              "    .colab-df-convert:hover {\n",
              "      background-color: #E2EBFA;\n",
              "      box-shadow: 0px 1px 2px rgba(60, 64, 67, 0.3), 0px 1px 3px 1px rgba(60, 64, 67, 0.15);\n",
              "      fill: #174EA6;\n",
              "    }\n",
              "\n",
              "    .colab-df-buttons div {\n",
              "      margin-bottom: 4px;\n",
              "    }\n",
              "\n",
              "    [theme=dark] .colab-df-convert {\n",
              "      background-color: #3B4455;\n",
              "      fill: #D2E3FC;\n",
              "    }\n",
              "\n",
              "    [theme=dark] .colab-df-convert:hover {\n",
              "      background-color: #434B5C;\n",
              "      box-shadow: 0px 1px 3px 1px rgba(0, 0, 0, 0.15);\n",
              "      filter: drop-shadow(0px 1px 2px rgba(0, 0, 0, 0.3));\n",
              "      fill: #FFFFFF;\n",
              "    }\n",
              "  </style>\n",
              "\n",
              "    <script>\n",
              "      const buttonEl =\n",
              "        document.querySelector('#df-07f28d2b-6203-4314-b8f8-26e2f82ab7e7 button.colab-df-convert');\n",
              "      buttonEl.style.display =\n",
              "        google.colab.kernel.accessAllowed ? 'block' : 'none';\n",
              "\n",
              "      async function convertToInteractive(key) {\n",
              "        const element = document.querySelector('#df-07f28d2b-6203-4314-b8f8-26e2f82ab7e7');\n",
              "        const dataTable =\n",
              "          await google.colab.kernel.invokeFunction('convertToInteractive',\n",
              "                                                    [key], {});\n",
              "        if (!dataTable) return;\n",
              "\n",
              "        const docLinkHtml = 'Like what you see? Visit the ' +\n",
              "          '<a target=\"_blank\" href=https://colab.research.google.com/notebooks/data_table.ipynb>data table notebook</a>'\n",
              "          + ' to learn more about interactive tables.';\n",
              "        element.innerHTML = '';\n",
              "        dataTable['output_type'] = 'display_data';\n",
              "        await google.colab.output.renderOutput(dataTable, element);\n",
              "        const docLink = document.createElement('div');\n",
              "        docLink.innerHTML = docLinkHtml;\n",
              "        element.appendChild(docLink);\n",
              "      }\n",
              "    </script>\n",
              "  </div>\n",
              "\n",
              "\n",
              "    <div id=\"df-fc0e7074-62c5-4580-a427-97abeb91ceee\">\n",
              "      <button class=\"colab-df-quickchart\" onclick=\"quickchart('df-fc0e7074-62c5-4580-a427-97abeb91ceee')\"\n",
              "                title=\"Suggest charts\"\n",
              "                style=\"display:none;\">\n",
              "\n",
              "<svg xmlns=\"http://www.w3.org/2000/svg\" height=\"24px\"viewBox=\"0 0 24 24\"\n",
              "     width=\"24px\">\n",
              "    <g>\n",
              "        <path d=\"M19 3H5c-1.1 0-2 .9-2 2v14c0 1.1.9 2 2 2h14c1.1 0 2-.9 2-2V5c0-1.1-.9-2-2-2zM9 17H7v-7h2v7zm4 0h-2V7h2v10zm4 0h-2v-4h2v4z\"/>\n",
              "    </g>\n",
              "</svg>\n",
              "      </button>\n",
              "\n",
              "<style>\n",
              "  .colab-df-quickchart {\n",
              "      --bg-color: #E8F0FE;\n",
              "      --fill-color: #1967D2;\n",
              "      --hover-bg-color: #E2EBFA;\n",
              "      --hover-fill-color: #174EA6;\n",
              "      --disabled-fill-color: #AAA;\n",
              "      --disabled-bg-color: #DDD;\n",
              "  }\n",
              "\n",
              "  [theme=dark] .colab-df-quickchart {\n",
              "      --bg-color: #3B4455;\n",
              "      --fill-color: #D2E3FC;\n",
              "      --hover-bg-color: #434B5C;\n",
              "      --hover-fill-color: #FFFFFF;\n",
              "      --disabled-bg-color: #3B4455;\n",
              "      --disabled-fill-color: #666;\n",
              "  }\n",
              "\n",
              "  .colab-df-quickchart {\n",
              "    background-color: var(--bg-color);\n",
              "    border: none;\n",
              "    border-radius: 50%;\n",
              "    cursor: pointer;\n",
              "    display: none;\n",
              "    fill: var(--fill-color);\n",
              "    height: 32px;\n",
              "    padding: 0;\n",
              "    width: 32px;\n",
              "  }\n",
              "\n",
              "  .colab-df-quickchart:hover {\n",
              "    background-color: var(--hover-bg-color);\n",
              "    box-shadow: 0 1px 2px rgba(60, 64, 67, 0.3), 0 1px 3px 1px rgba(60, 64, 67, 0.15);\n",
              "    fill: var(--button-hover-fill-color);\n",
              "  }\n",
              "\n",
              "  .colab-df-quickchart-complete:disabled,\n",
              "  .colab-df-quickchart-complete:disabled:hover {\n",
              "    background-color: var(--disabled-bg-color);\n",
              "    fill: var(--disabled-fill-color);\n",
              "    box-shadow: none;\n",
              "  }\n",
              "\n",
              "  .colab-df-spinner {\n",
              "    border: 2px solid var(--fill-color);\n",
              "    border-color: transparent;\n",
              "    border-bottom-color: var(--fill-color);\n",
              "    animation:\n",
              "      spin 1s steps(1) infinite;\n",
              "  }\n",
              "\n",
              "  @keyframes spin {\n",
              "    0% {\n",
              "      border-color: transparent;\n",
              "      border-bottom-color: var(--fill-color);\n",
              "      border-left-color: var(--fill-color);\n",
              "    }\n",
              "    20% {\n",
              "      border-color: transparent;\n",
              "      border-left-color: var(--fill-color);\n",
              "      border-top-color: var(--fill-color);\n",
              "    }\n",
              "    30% {\n",
              "      border-color: transparent;\n",
              "      border-left-color: var(--fill-color);\n",
              "      border-top-color: var(--fill-color);\n",
              "      border-right-color: var(--fill-color);\n",
              "    }\n",
              "    40% {\n",
              "      border-color: transparent;\n",
              "      border-right-color: var(--fill-color);\n",
              "      border-top-color: var(--fill-color);\n",
              "    }\n",
              "    60% {\n",
              "      border-color: transparent;\n",
              "      border-right-color: var(--fill-color);\n",
              "    }\n",
              "    80% {\n",
              "      border-color: transparent;\n",
              "      border-right-color: var(--fill-color);\n",
              "      border-bottom-color: var(--fill-color);\n",
              "    }\n",
              "    90% {\n",
              "      border-color: transparent;\n",
              "      border-bottom-color: var(--fill-color);\n",
              "    }\n",
              "  }\n",
              "</style>\n",
              "\n",
              "      <script>\n",
              "        async function quickchart(key) {\n",
              "          const quickchartButtonEl =\n",
              "            document.querySelector('#' + key + ' button');\n",
              "          quickchartButtonEl.disabled = true;  // To prevent multiple clicks.\n",
              "          quickchartButtonEl.classList.add('colab-df-spinner');\n",
              "          try {\n",
              "            const charts = await google.colab.kernel.invokeFunction(\n",
              "                'suggestCharts', [key], {});\n",
              "          } catch (error) {\n",
              "            console.error('Error during call to suggestCharts:', error);\n",
              "          }\n",
              "          quickchartButtonEl.classList.remove('colab-df-spinner');\n",
              "          quickchartButtonEl.classList.add('colab-df-quickchart-complete');\n",
              "        }\n",
              "        (() => {\n",
              "          let quickchartButtonEl =\n",
              "            document.querySelector('#df-fc0e7074-62c5-4580-a427-97abeb91ceee button');\n",
              "          quickchartButtonEl.style.display =\n",
              "            google.colab.kernel.accessAllowed ? 'block' : 'none';\n",
              "        })();\n",
              "      </script>\n",
              "    </div>\n",
              "\n",
              "    </div>\n",
              "  </div>\n"
            ],
            "application/vnd.google.colaboratory.intrinsic+json": {
              "type": "dataframe",
              "summary": "{\n  \"name\": \"display(df[numerical_cols]\",\n  \"rows\": 8,\n  \"fields\": [\n    {\n      \"column\": \"product_price\",\n      \"properties\": {\n        \"dtype\": \"number\",\n        \"std\": 3144.533330037432,\n        \"min\": 2.99,\n        \"max\": 9719.0,\n        \"num_unique_values\": 8,\n        \"samples\": [\n          2096.5893812949644,\n          1511.0,\n          695.0\n        ],\n        \"semantic_type\": \"\",\n        \"description\": \"\"\n      }\n    },\n    {\n      \"column\": \"product_star_rating\",\n      \"properties\": {\n        \"dtype\": \"number\",\n        \"std\": 244.44072642668027,\n        \"min\": 0.411116192768696,\n        \"max\": 695.0,\n        \"num_unique_values\": 8,\n        \"samples\": [\n          4.18978417266187,\n          4.2,\n          695.0\n        ],\n        \"semantic_type\": \"\",\n        \"description\": \"\"\n      }\n    },\n    {\n      \"column\": \"product_num_ratings\",\n      \"properties\": {\n        \"dtype\": \"number\",\n        \"std\": 835.715759050063,\n        \"min\": 1.0,\n        \"max\": 2617.0,\n        \"num_unique_values\": 8,\n        \"samples\": [\n          461.0359712230216,\n          193.0,\n          695.0\n        ],\n        \"semantic_type\": \"\",\n        \"description\": \"\"\n      }\n    }\n  ]\n}"
            }
          },
          "metadata": {}
        }
      ]
    },
    {
      "cell_type": "markdown",
      "metadata": {
        "id": "48832f61"
      },
      "source": [
        "## Visualize the data\n",
        "\n"
      ]
    },
    {
      "cell_type": "code",
      "metadata": {
        "colab": {
          "base_uri": "https://localhost:8080/",
          "height": 1000
        },
        "id": "32abede3",
        "outputId": "4d769429-cd21-45c7-f96f-03e1035a4e42"
      },
      "source": [
        "import matplotlib.pyplot as plt\n",
        "import seaborn as sns\n",
        "\n",
        "fig, axes = plt.subplots(2, 2, figsize=(15, 10))\n",
        "\n",
        "# Scatter plot: product_price vs product_star_rating\n",
        "sns.scatterplot(ax=axes[0, 0], x='product_price', y='product_star_rating', data=df)\n",
        "axes[0, 0].set_title('Product Price vs Product Star Rating')\n",
        "axes[0, 0].set_xlabel('Product Price')\n",
        "axes[0, 0].set_ylabel('Product Star Rating')\n",
        "\n",
        "# Scatter plot: product_price vs product_num_ratings\n",
        "sns.scatterplot(ax=axes[0, 1], x='product_price', y='product_num_ratings', data=df)\n",
        "axes[0, 1].set_title('Product Price vs Product Number of Ratings')\n",
        "axes[0, 1].set_xlabel('Product Price')\n",
        "axes[0, 1].set_ylabel('Product Number of Ratings')\n",
        "\n",
        "# Histogram: product_price\n",
        "sns.histplot(ax=axes[1, 0], x='product_price', data=df, kde=True)\n",
        "axes[1, 0].set_title('Distribution of Product Price')\n",
        "axes[1, 0].set_xlabel('Product Price')\n",
        "axes[1, 0].set_ylabel('Frequency')\n",
        "\n",
        "# Histogram: product_star_rating\n",
        "sns.histplot(ax=axes[1, 1], x='product_star_rating', data=df, kde=True)\n",
        "axes[1, 1].set_title('Distribution of Product Star Rating')\n",
        "axes[1, 1].set_xlabel('Product Star Rating')\n",
        "axes[1, 1].set_ylabel('Frequency')\n",
        "\n",
        "plt.tight_layout()\n",
        "plt.show()\n",
        "\n",
        "fig, ax = plt.subplots(figsize=(10, 6))\n",
        "# Histogram: product_num_ratings\n",
        "sns.histplot(ax=ax, x='product_num_ratings', data=df, kde=True)\n",
        "ax.set_title('Distribution of Product Number of Ratings')\n",
        "ax.set_xlabel('Product Number of Ratings')\n",
        "ax.set_ylabel('Frequency')\n",
        "\n",
        "plt.tight_layout()\n",
        "plt.show()"
      ],
      "execution_count": 7,
      "outputs": [
        {
          "output_type": "display_data",
          "data": {
            "text/plain": [
              "<Figure size 1500x1000 with 4 Axes>"
            ],
            "image/png": "[encoded data removed]"
          },
          "metadata": {}
        },
        {
          "output_type": "display_data",
          "data": {
            "text/plain": [
              "<Figure size 1000x600 with 1 Axes>"
            ],
            "image/png": "[encoded data removed]"
          },
          "metadata": {}
        }
      ]
    },
    {
      "cell_type": "markdown",
      "metadata": {
        "id": "984c0e5c"
      },
      "source": [
        "**Reasoning**:\n",
        "Visualize the distribution of the categorical variable 'country' using a count plot.\n",
        "\n"
      ]
    },
    {
      "cell_type": "code",
      "metadata": {
        "colab": {
          "base_uri": "https://localhost:8080/",
          "height": 607
        },
        "id": "eb778797",
        "outputId": "375ac92f-0392-4e15-80a8-4ad4c0ce1861"
      },
      "source": [
        "fig, ax = plt.subplots(figsize=(10, 6))\n",
        "sns.countplot(ax=ax, x='country', data=df)\n",
        "ax.set_title('Distribution of Product Country')\n",
        "ax.set_xlabel('Country')\n",
        "ax.set_ylabel('Count')\n",
        "plt.tight_layout()\n",
        "plt.show()"
      ],
      "execution_count": 8,
      "outputs": [
        {
          "output_type": "display_data",
          "data": {
            "text/plain": [
              "<Figure size 1000x600 with 1 Axes>"
            ],
            "image/png": "[encoded data removed]"
          },
          "metadata": {}
        }
      ]
    },
    {
      "cell_type": "markdown",
      "metadata": {
        "id": "dc7af87d"
      },
      "source": [
        "## Prepare data for modeling\n",
        "\n",
        "\n"
      ]
    },
    {
      "cell_type": "code",
      "metadata": {
        "colab": {
          "base_uri": "https://localhost:8080/",
          "height": 985
        },
        "id": "41d60625",
        "outputId": "42aed93f-3d5b-4843-a5d8-76a7e9e5634b"
      },
      "source": [
        "from sklearn.model_selection import train_test_split\n",
        "from sklearn.preprocessing import StandardScaler\n",
        "\n",
        "# 1. Define the target variable y\n",
        "y = df['product_price']\n",
        "\n",
        "# 2. Define the feature set X\n",
        "X = df.drop(['product_price', 'asin', 'product_title', 'product_url', 'product_photo', 'Unnamed: 0'], axis=1)\n",
        "\n",
        "# 3. Identify categorical columns\n",
        "categorical_cols = X.select_dtypes(include=['object']).columns\n",
        "\n",
        "# 4. Apply one-hot encoding to the categorical columns\n",
        "X = pd.get_dummies(X, columns=categorical_cols, drop_first=True)\n",
        "\n",
        "# 5. Split the feature set X and the target variable y into training and testing sets\n",
        "X_train, X_test, y_train, y_test = train_test_split(X, y, test_size=0.2, random_state=42)\n",
        "\n",
        "# 6. Instantiate a StandardScaler\n",
        "scaler = StandardScaler()\n",
        "\n",
        "# 7. Fit the scaler on the training features (X_train)\n",
        "scaler.fit(X_train)\n",
        "\n",
        "# 8. Transform both the training features (X_train) and testing features (X_test)\n",
        "X_train_scaled = scaler.transform(X_train)\n",
        "X_test_scaled = scaler.transform(X_test)\n",
        "\n",
        "display(X_train_scaled[:5])\n",
        "display(X_test_scaled[:5])\n",
        "display(y_train[:5])\n",
        "display(y_test[:5])"
      ],
      "execution_count": 9,
      "outputs": [
        {
          "output_type": "display_data",
          "data": {
            "text/plain": [
              "array([[ 0.75021916,  0.50720119,  0.93424323,  0.98217326, -0.38569461,\n",
              "        -0.29315098, -0.35747594, -0.37015445, -0.32120804, -0.35747594,\n",
              "        -0.2708488 , -0.33466401,  3.21666579],\n",
              "       [-0.7556359 ,  1.22598758,  1.25900093, -1.0181503 , -0.38569461,\n",
              "        -0.29315098, -0.35747594, -0.37015445, -0.32120804, -0.35747594,\n",
              "        -0.2708488 , -0.33466401,  3.21666579],\n",
              "       [ 1.14460977,  0.02801026, -0.58605106,  0.98217326, -0.38569461,\n",
              "        -0.29315098, -0.35747594, -0.37015445,  3.11324713, -0.35747594,\n",
              "        -0.2708488 , -0.33466401, -0.31088091],\n",
              "       [ 1.53900038,  0.02801026, -0.78054881,  0.98217326,  2.59272486,\n",
              "        -0.29315098, -0.35747594, -0.37015445, -0.32120804, -0.35747594,\n",
              "        -0.2708488 , -0.33466401, -0.31088091],\n",
              "       [ 0.89363393, -0.69077613, -0.77876442,  0.98217326, -0.38569461,\n",
              "        -0.29315098,  2.79739107, -0.37015445, -0.32120804, -0.35747594,\n",
              "        -0.2708488 , -0.33466401, -0.31088091]])"
            ]
          },
          "metadata": {}
        },
        {
          "output_type": "display_data",
          "data": {
            "text/plain": [
              "array([[-0.39709898,  0.98639212,  0.43283162, -1.0181503 , -0.38569461,\n",
              "        -0.29315098, -0.35747594,  2.701575  , -0.32120804, -0.35747594,\n",
              "        -0.2708488 , -0.33466401, -0.31088091],\n",
              "       [ 0.17656009, -0.69077613,  1.2625697 ,  0.98217326, -0.38569461,\n",
              "        -0.29315098, -0.35747594, -0.37015445, -0.32120804, -0.35747594,\n",
              "        -0.2708488 ,  2.98807152, -0.31088091],\n",
              "       [-0.3253916 ,  1.22598758, -0.79839264, -1.0181503 , -0.38569461,\n",
              "        -0.29315098, -0.35747594, -0.37015445, -0.32120804, -0.35747594,\n",
              "        -0.2708488 , -0.33466401, -0.31088091],\n",
              "       [ 1.39558562, -0.45118067, -0.66991706,  0.98217326, -0.38569461,\n",
              "         3.41121146, -0.35747594, -0.37015445, -0.32120804, -0.35747594,\n",
              "        -0.2708488 , -0.33466401, -0.31088091],\n",
              "       [ 0.35582855,  1.46558304,  1.24294149,  0.98217326, -0.38569461,\n",
              "         3.41121146, -0.35747594, -0.37015445, -0.32120804, -0.35747594,\n",
              "        -0.2708488 , -0.33466401, -0.31088091]])"
            ]
          },
          "metadata": {}
        },
        {
          "output_type": "display_data",
          "data": {
            "text/plain": [
              "171      39.99\n",
              "129      29.00\n",
              "82      498.00\n",
              "292     150.00\n",
              "774    2995.00\n",
              "Name: product_price, dtype: float64"
            ],
            "text/html": [
              "<div>\n",
              "<style scoped>\n",
              "    .dataframe tbody tr th:only-of-type {\n",
              "        vertical-align: middle;\n",
              "    }\n",
              "\n",
              "    .dataframe tbody tr th {\n",
              "        vertical-align: top;\n",
              "    }\n",
              "\n",
              "    .dataframe thead th {\n",
              "        text-align: right;\n",
              "    }\n",
              "</style>\n",
              "<table border=\"1\" class=\"dataframe\">\n",
              "  <thead>\n",
              "    <tr style=\"text-align: right;\">\n",
              "      <th></th>\n",
              "      <th>product_price</th>\n",
              "    </tr>\n",
              "  </thead>\n",
              "  <tbody>\n",
              "    <tr>\n",
              "      <th>171</th>\n",
              "      <td>39.99</td>\n",
              "    </tr>\n",
              "    <tr>\n",
              "      <th>129</th>\n",
              "      <td>29.00</td>\n",
              "    </tr>\n",
              "    <tr>\n",
              "      <th>82</th>\n",
              "      <td>498.00</td>\n",
              "    </tr>\n",
              "    <tr>\n",
              "      <th>292</th>\n",
              "      <td>150.00</td>\n",
              "    </tr>\n",
              "    <tr>\n",
              "      <th>774</th>\n",
              "      <td>2995.00</td>\n",
              "    </tr>\n",
              "  </tbody>\n",
              "</table>\n",
              "</div><br><label><b>dtype:</b> float64</label>"
            ]
          },
          "metadata": {}
        },
        {
          "output_type": "display_data",
          "data": {
            "text/plain": [
              "538    7499.00\n",
              "954    2399.00\n",
              "340      29.95\n",
              "488    1249.00\n",
              "459    5800.00\n",
              "Name: product_price, dtype: float64"
            ],
            "text/html": [
              "<div>\n",
              "<style scoped>\n",
              "    .dataframe tbody tr th:only-of-type {\n",
              "        vertical-align: middle;\n",
              "    }\n",
              "\n",
              "    .dataframe tbody tr th {\n",
              "        vertical-align: top;\n",
              "    }\n",
              "\n",
              "    .dataframe thead th {\n",
              "        text-align: right;\n",
              "    }\n",
              "</style>\n",
              "<table border=\"1\" class=\"dataframe\">\n",
              "  <thead>\n",
              "    <tr style=\"text-align: right;\">\n",
              "      <th></th>\n",
              "      <th>product_price</th>\n",
              "    </tr>\n",
              "  </thead>\n",
              "  <tbody>\n",
              "    <tr>\n",
              "      <th>538</th>\n",
              "      <td>7499.00</td>\n",
              "    </tr>\n",
              "    <tr>\n",
              "      <th>954</th>\n",
              "      <td>2399.00</td>\n",
              "    </tr>\n",
              "    <tr>\n",
              "      <th>340</th>\n",
              "      <td>29.95</td>\n",
              "    </tr>\n",
              "    <tr>\n",
              "      <th>488</th>\n",
              "      <td>1249.00</td>\n",
              "    </tr>\n",
              "    <tr>\n",
              "      <th>459</th>\n",
              "      <td>5800.00</td>\n",
              "    </tr>\n",
              "  </tbody>\n",
              "</table>\n",
              "</div><br><label><b>dtype:</b> float64</label>"
            ]
          },
          "metadata": {}
        }
      ]
    },
    {
      "cell_type": "markdown",
      "metadata": {
        "id": "68ea3bc0"
      },
      "source": [
        "## Implement regression models\n",
        "\n",
        "\n"
      ]
    },
    {
      "cell_type": "markdown",
      "metadata": {
        "id": "cf60ea0b"
      },
      "source": [
        "**Reasoning**:\n",
        "Install the missing `catboost` library.\n",
        "\n"
      ]
    },
    {
      "cell_type": "code",
      "metadata": {
        "colab": {
          "base_uri": "https://localhost:8080/"
        },
        "id": "42ZyI6Gp1aVT",
        "outputId": "1b75fdc0-61ae-4589-cc7f-daae4fb1ffb7"
      },
      "source": [
        "%pip install catboost"
      ],
      "execution_count": 10,
      "outputs": [
        {
          "output_type": "stream",
          "name": "stdout",
          "text": [
            "Collecting catboost\n",
            "  Downloading catboost-1.2.8-cp312-cp312-manylinux2014_x86_64.whl.metadata (1.2 kB)\n",
            "Requirement already satisfied: graphviz in /usr/local/lib/python3.12/dist-packages (from catboost) (0.21)\n",
            "Requirement already satisfied: matplotlib in /usr/local/lib/python3.12/dist-packages (from catboost) (3.10.0)\n",
            "Requirement already satisfied: numpy<3.0,>=1.16.0 in /usr/local/lib/python3.12/dist-packages (from catboost) (2.0.2)\n",
            "Requirement already satisfied: pandas>=0.24 in /usr/local/lib/python3.12/dist-packages (from catboost) (2.2.2)\n",
            "Requirement already satisfied: scipy in /usr/local/lib/python3.12/dist-packages (from catboost) (1.16.1)\n",
            "Requirement already satisfied: plotly in /usr/local/lib/python3.12/dist-packages (from catboost) (5.24.1)\n",
            "Requirement already satisfied: six in /usr/local/lib/python3.12/dist-packages (from catboost) (1.17.0)\n",
            "Requirement already satisfied: python-dateutil>=2.8.2 in /usr/local/lib/python3.12/dist-packages (from pandas>=0.24->catboost) (2.9.0.post0)\n",
            "Requirement already satisfied: pytz>=2020.1 in /usr/local/lib/python3.12/dist-packages (from pandas>=0.24->catboost) (2025.2)\n",
            "Requirement already satisfied: tzdata>=2022.7 in /usr/local/lib/python3.12/dist-packages (from pandas>=0.24->catboost) (2025.2)\n",
            "Requirement already satisfied: contourpy>=1.0.1 in /usr/local/lib/python3.12/dist-packages (from matplotlib->catboost) (1.3.3)\n",
            "Requirement already satisfied: cycler>=0.10 in /usr/local/lib/python3.12/dist-packages (from matplotlib->catboost) (0.12.1)\n",
            "Requirement already satisfied: fonttools>=4.22.0 in /usr/local/lib/python3.12/dist-packages (from matplotlib->catboost) (4.59.1)\n",
            "Requirement already satisfied: kiwisolver>=1.3.1 in /usr/local/lib/python3.12/dist-packages (from matplotlib->catboost) (1.4.9)\n",
            "Requirement already satisfied: packaging>=20.0 in /usr/local/lib/python3.12/dist-packages (from matplotlib->catboost) (25.0)\n",
            "Requirement already satisfied: pillow>=8 in /usr/local/lib/python3.12/dist-packages (from matplotlib->catboost) (11.3.0)\n",
            "Requirement already satisfied: pyparsing>=2.3.1 in /usr/local/lib/python3.12/dist-packages (from matplotlib->catboost) (3.2.3)\n",
            "Requirement already satisfied: tenacity>=6.2.0 in /usr/local/lib/python3.12/dist-packages (from plotly->catboost) (8.5.0)\n",
            "Downloading catboost-1.2.8-cp312-cp312-manylinux2014_x86_64.whl (99.2 MB)\n",
            "\u001b[2K   \u001b[90m━━━━━━━━━━━━━━━━━━━━━━━━━━━━━━━━━━━━━━━━\u001b[0m \u001b[32m99.2/99.2 MB\u001b[0m \u001b[31m7.3 MB/s\u001b[0m eta \u001b[36m0:00:00\u001b[0m\n",
            "\u001b[?25hInstalling collected packages: catboost\n",
            "Successfully installed catboost-1.2.8\n"
          ]
        }
      ]
    },
    {
      "cell_type": "markdown",
      "metadata": {
        "id": "dca98b75"
      },
      "source": [
        "**Reasoning**:\n",
        "Now that catboost is installed, import all necessary libraries and modules for the regression models.\n",
        "\n"
      ]
    },
    {
      "cell_type": "code",
      "metadata": {
        "id": "d26f9854"
      },
      "source": [
        "from sklearn.linear_model import LinearRegression, Ridge, Lasso, ElasticNet, BayesianRidge\n",
        "from sklearn.tree import DecisionTreeRegressor\n",
        "from sklearn.ensemble import RandomForestRegressor, GradientBoostingRegressor, ExtraTreesRegressor\n",
        "from sklearn.svm import SVR\n",
        "from sklearn.neighbors import KNeighborsRegressor\n",
        "from sklearn.neural_network import MLPRegressor\n",
        "from sklearn.gaussian_process import GaussianProcessRegressor\n",
        "from sklearn.gaussian_process.kernels import RBF, ConstantKernel as C\n",
        "from sklearn.metrics import r2_score, mean_squared_error\n",
        "import statsmodels.api as sm\n",
        "import statsmodels.formula.api as smf\n",
        "from sklearn.feature_selection import RFECV\n",
        "from sklearn.model_selection import KFold\n",
        "import xgboost as xgb\n",
        "import lightgbm as lgb\n",
        "import catboost as cb\n",
        "import numpy as np\n",
        "from sklearn.preprocessing import PolynomialFeatures\n",
        "from sklearn.linear_model import QuantileRegressor\n",
        "from sklearn.linear_model import HuberRegressor\n"
      ],
      "execution_count": 11,
      "outputs": []
    },
    {
      "cell_type": "code",
      "source": [
        "results = {}\n"
      ],
      "metadata": {
        "id": "MhUy9pLN2viC"
      },
      "execution_count": 12,
      "outputs": []
    },
    {
      "cell_type": "code",
      "source": [
        "lr = LinearRegression()\n",
        "lr.fit(X_train_scaled, y_train)\n",
        "y_pred_lr = lr.predict(X_test_scaled)\n",
        "results['Linear Regression'] = {\n",
        "    'R-squared': r2_score(y_test, y_pred_lr),\n",
        "    'MSE': mean_squared_error(y_test, y_pred_lr)\n",
        "}\n",
        "print(\"Done\")"
      ],
      "metadata": {
        "colab": {
          "base_uri": "https://localhost:8080/"
        },
        "id": "pjcqdDhX2_oe",
        "outputId": "09c71788-0bcb-4d3d-c80e-c8159b80de72"
      },
      "execution_count": 13,
      "outputs": [
        {
          "output_type": "stream",
          "name": "stdout",
          "text": [
            "Done\n"
          ]
        }
      ]
    },
    {
      "cell_type": "code",
      "source": [
        "poly_features = PolynomialFeatures(degree=2)\n",
        "X_train_poly = poly_features.fit_transform(X_train_scaled)\n",
        "X_test_poly = poly_features.transform(X_test_scaled)\n",
        "poly_reg = LinearRegression()\n",
        "poly_reg.fit(X_train_poly, y_train)\n",
        "y_pred_poly = poly_reg.predict(X_test_poly)\n",
        "results['Polynomial Regression'] = {\n",
        "    'R-squared': r2_score(y_test, y_pred_poly),\n",
        "    'MSE': mean_squared_error(y_test, y_pred_poly)\n",
        "}\n",
        "print(\"Done\")"
      ],
      "metadata": {
        "colab": {
          "base_uri": "https://localhost:8080/"
        },
        "id": "OjWXxMzq3LZ9",
        "outputId": "19d989ef-2b0f-46c6-a000-5b5b642299a6"
      },
      "execution_count": 14,
      "outputs": [
        {
          "output_type": "stream",
          "name": "stdout",
          "text": [
            "Done\n"
          ]
        }
      ]
    },
    {
      "cell_type": "code",
      "source": [
        "ridge = Ridge()\n",
        "ridge.fit(X_train_scaled, y_train)\n",
        "y_pred_ridge = ridge.predict(X_test_scaled)\n",
        "results['Ridge Regression'] = {\n",
        "    'R-squared': r2_score(y_test, y_pred_ridge),\n",
        "    'MSE': mean_squared_error(y_test, y_pred_ridge)\n",
        "}\n",
        "\n",
        "print(\"Done\")"
      ],
      "metadata": {
        "colab": {
          "base_uri": "https://localhost:8080/"
        },
        "id": "VqH_oTFP3fzl",
        "outputId": "9afb49e1-6c0f-4899-b390-b3cdae048ba6"
      },
      "execution_count": 15,
      "outputs": [
        {
          "output_type": "stream",
          "name": "stdout",
          "text": [
            "Done\n"
          ]
        }
      ]
    },
    {
      "cell_type": "code",
      "source": [
        "lasso = Lasso()\n",
        "lasso.fit(X_train_scaled, y_train)\n",
        "y_pred_lasso = lasso.predict(X_test_scaled)\n",
        "results['Lasso Regression'] = {\n",
        "    'R-squared': r2_score(y_test, y_pred_lasso),\n",
        "    'MSE': mean_squared_error(y_test, y_pred_lasso)\n",
        "}\n",
        "print(\"Done\")"
      ],
      "metadata": {
        "colab": {
          "base_uri": "https://localhost:8080/"
        },
        "id": "fsfMEmV_3uGK",
        "outputId": "65a225c1-a63d-4343-cfa7-7d8515dbde75"
      },
      "execution_count": 16,
      "outputs": [
        {
          "output_type": "stream",
          "name": "stdout",
          "text": [
            "Done\n"
          ]
        }
      ]
    },
    {
      "cell_type": "code",
      "source": [
        "elastic_net = ElasticNet()\n",
        "elastic_net.fit(X_train_scaled, y_train)\n",
        "y_pred_elastic_net = elastic_net.predict(X_test_scaled)\n",
        "results['Elastic Net Regression'] = {\n",
        "    'R-squared': r2_score(y_test, y_pred_elastic_net),\n",
        "    'MSE': mean_squared_error(y_test, y_pred_elastic_net)\n",
        "}\n",
        "print(\"Done\")"
      ],
      "metadata": {
        "colab": {
          "base_uri": "https://localhost:8080/"
        },
        "id": "ba5RlNy930Tk",
        "outputId": "7c176d30-5910-46e1-8bfc-b98acd197879"
      },
      "execution_count": 17,
      "outputs": [
        {
          "output_type": "stream",
          "name": "stdout",
          "text": [
            "Done\n"
          ]
        }
      ]
    },
    {
      "cell_type": "code",
      "source": [
        "dt = DecisionTreeRegressor(random_state=42)\n",
        "dt.fit(X_train_scaled, y_train)\n",
        "y_pred_dt = dt.predict(X_test_scaled)\n",
        "\n",
        "results['Decision Tree Regression'] = {\n",
        "    'R-squared': r2_score(y_test, y_pred_dt),\n",
        "    'MSE': mean_squared_error(y_test, y_pred_dt)\n",
        "}\n",
        "print(\"Done\")"
      ],
      "metadata": {
        "colab": {
          "base_uri": "https://localhost:8080/"
        },
        "id": "TTM5Oq7a33wm",
        "outputId": "fc9535b7-af4d-4d3b-8c33-3565e1c3f4a6"
      },
      "execution_count": 18,
      "outputs": [
        {
          "output_type": "stream",
          "name": "stdout",
          "text": [
            "Done\n"
          ]
        }
      ]
    },
    {
      "cell_type": "code",
      "source": [
        "estimator = LinearRegression()\n",
        "selector = RFECV(estimator, step=1, cv=KFold(5))\n",
        "selector = selector.fit(X_train_scaled, y_train)\n",
        "\n",
        "X_train_stepwise = selector.transform(X_train_scaled)\n",
        "X_test_stepwise = selector.transform(X_test_scaled)\n",
        "\n",
        "stepwise_reg = LinearRegression()\n",
        "stepwise_reg.fit(X_train_stepwise, y_train)\n",
        "y_pred_stepwise = stepwise_reg.predict(X_test_stepwise)\n",
        "\n",
        "results['Stepwise Regression'] = {\n",
        "    'R-squared': r2_score(y_test, y_pred_stepwise),\n",
        "    'MSE': mean_squared_error(y_test, y_pred_stepwise)\n",
        "}\n",
        "print(\"Done\")"
      ],
      "metadata": {
        "colab": {
          "base_uri": "https://localhost:8080/"
        },
        "id": "rtrgHt4x4HfP",
        "outputId": "dc1460e7-0c27-4858-9309-c9da48e38d05"
      },
      "execution_count": 19,
      "outputs": [
        {
          "output_type": "stream",
          "name": "stdout",
          "text": [
            "Done\n"
          ]
        }
      ]
    },
    {
      "cell_type": "code",
      "source": [
        "X_train_sm = sm.add_constant(X_train_scaled)\n",
        "X_test_sm = sm.add_constant(X_test_scaled)\n",
        "\n",
        "quant_reg = sm.QuantReg(y_train, X_train_sm)\n",
        "quant_reg_median = quant_reg.fit(q=0.5)\n",
        "\n",
        "y_pred_quant = quant_reg_median.predict(X_test_sm)\n",
        "\n",
        "results['Quantile Regression (Median)'] = {\n",
        "    'R-squared': r2_score(y_test, y_pred_quant),\n",
        "    'MSE': mean_squared_error(y_test, y_pred_quant)\n",
        "}\n",
        "print(\"Done\")"
      ],
      "metadata": {
        "colab": {
          "base_uri": "https://localhost:8080/"
        },
        "id": "gVc6S6ht4MfP",
        "outputId": "0197afa4-caec-48a8-bdd2-ba535ddc7e80"
      },
      "execution_count": 20,
      "outputs": [
        {
          "output_type": "stream",
          "name": "stdout",
          "text": [
            "Done\n"
          ]
        }
      ]
    },
    {
      "cell_type": "code",
      "source": [
        "huber = HuberRegressor()\n",
        "huber.fit(X_train_scaled, y_train)\n",
        "y_pred_huber = huber.predict(X_test_scaled)\n",
        "\n",
        "results['Robust Regression (Huber)'] = {\n",
        "    'R-squared': r2_score(y_test, y_pred_huber),\n",
        "    'MSE': mean_squared_error(y_test, y_pred_huber)\n",
        "}\n",
        "print(\"Done\")"
      ],
      "metadata": {
        "colab": {
          "base_uri": "https://localhost:8080/"
        },
        "id": "wcxwap8K4R7I",
        "outputId": "abc03f68-a2cc-4400-f37c-505dcd8a8842"
      },
      "execution_count": 21,
      "outputs": [
        {
          "output_type": "stream",
          "name": "stdout",
          "text": [
            "Done\n"
          ]
        }
      ]
    },
    {
      "cell_type": "code",
      "source": [
        "rf = RandomForestRegressor(random_state=42)\n",
        "rf.fit(X_train_scaled, y_train)\n",
        "y_pred_rf = rf.predict(X_test_scaled)\n",
        "\n",
        "results['Random Forest Regression'] = {\n",
        "    'R-squared': r2_score(y_test, y_pred_rf),\n",
        "    'MSE': mean_squared_error(y_test, y_pred_rf)\n",
        "}\n",
        "print(\"Done\")"
      ],
      "metadata": {
        "colab": {
          "base_uri": "https://localhost:8080/"
        },
        "id": "qrUdRXlI4XUB",
        "outputId": "5875e1f8-3f95-423b-fc57-0ae71681d93d"
      },
      "execution_count": 22,
      "outputs": [
        {
          "output_type": "stream",
          "name": "stdout",
          "text": [
            "Done\n"
          ]
        }
      ]
    },
    {
      "cell_type": "code",
      "source": [
        "xgb_reg = xgb.XGBRegressor(random_state=42)\n",
        "xgb_reg.fit(X_train_scaled, y_train)\n",
        "y_pred_xgb = xgb_reg.predict(X_test_scaled)\n",
        "\n",
        "results['XGBoost Regression'] = {\n",
        "    'R-squared': r2_score(y_test, y_pred_xgb),\n",
        "    'MSE': mean_squared_error(y_test, y_pred_xgb)\n",
        "}\n",
        "print(\"Done\")"
      ],
      "metadata": {
        "colab": {
          "base_uri": "https://localhost:8080/"
        },
        "id": "iJ84jTy94hMy",
        "outputId": "5844db76-dfd9-4e6d-a546-a7e06836f546"
      },
      "execution_count": 23,
      "outputs": [
        {
          "output_type": "stream",
          "name": "stdout",
          "text": [
            "Done\n"
          ]
        }
      ]
    },
    {
      "cell_type": "code",
      "source": [
        "lgb_reg = lgb.LGBMRegressor(random_state=42)\n",
        "lgb_reg.fit(X_train_scaled, y_train)\n",
        "y_pred_lgb = lgb_reg.predict(X_test_scaled)\n",
        "\n",
        "results['LightGBM Regression'] = {\n",
        "    'R-squared': r2_score(y_test, y_pred_lgb),\n",
        "    'MSE': mean_squared_error(y_test, y_pred_lgb)\n",
        "}\n",
        "print(\"Done\")"
      ],
      "metadata": {
        "colab": {
          "base_uri": "https://localhost:8080/"
        },
        "id": "9kpKNZUx4mCp",
        "outputId": "c144ee52-75ca-4006-c253-490ed1edc74f"
      },
      "execution_count": 24,
      "outputs": [
        {
          "output_type": "stream",
          "name": "stdout",
          "text": [
            "[LightGBM] [Info] Auto-choosing row-wise multi-threading, the overhead of testing was 0.000343 seconds.\n",
            "You can set `force_row_wise=true` to remove the overhead.\n",
            "And if memory is not enough, you can set `force_col_wise=true`.\n",
            "[LightGBM] [Info] Total Bins 326\n",
            "[LightGBM] [Info] Number of data points in the train set: 556, number of used features: 13\n",
            "[LightGBM] [Info] Start training from score 2111.467428\n",
            "[LightGBM] [Warning] No further splits with positive gain, best gain: -inf\n",
            "[LightGBM] [Warning] No further splits with positive gain, best gain: -inf\n",
            "[LightGBM] [Warning] No further splits with positive gain, best gain: -inf\n",
            "[LightGBM] [Warning] No further splits with positive gain, best gain: -inf\n",
            "[LightGBM] [Warning] No further splits with positive gain, best gain: -inf\n",
            "[LightGBM] [Warning] No further splits with positive gain, best gain: -inf\n",
            "[LightGBM] [Warning] No further splits with positive gain, best gain: -inf\n",
            "[LightGBM] [Warning] No further splits with positive gain, best gain: -inf\n",
            "[LightGBM] [Warning] No further splits with positive gain, best gain: -inf\n",
            "[LightGBM] [Warning] No further splits with positive gain, best gain: -inf\n",
            "[LightGBM] [Warning] No further splits with positive gain, best gain: -inf\n",
            "[LightGBM] [Warning] No further splits with positive gain, best gain: -inf\n",
            "[LightGBM] [Warning] No further splits with positive gain, best gain: -inf\n",
            "[LightGBM] [Warning] No further splits with positive gain, best gain: -inf\n",
            "[LightGBM] [Warning] No further splits with positive gain, best gain: -inf\n",
            "[LightGBM] [Warning] No further splits with positive gain, best gain: -inf\n",
            "[LightGBM] [Warning] No further splits with positive gain, best gain: -inf\n",
            "[LightGBM] [Warning] No further splits with positive gain, best gain: -inf\n",
            "[LightGBM] [Warning] No further splits with positive gain, best gain: -inf\n",
            "[LightGBM] [Warning] No further splits with positive gain, best gain: -inf\n",
            "[LightGBM] [Warning] No further splits with positive gain, best gain: -inf\n",
            "[LightGBM] [Warning] No further splits with positive gain, best gain: -inf\n",
            "[LightGBM] [Warning] No further splits with positive gain, best gain: -inf\n",
            "[LightGBM] [Warning] No further splits with positive gain, best gain: -inf\n",
            "[LightGBM] [Warning] No further splits with positive gain, best gain: -inf\n",
            "[LightGBM] [Warning] No further splits with positive gain, best gain: -inf\n",
            "[LightGBM] [Warning] No further splits with positive gain, best gain: -inf\n",
            "[LightGBM] [Warning] No further splits with positive gain, best gain: -inf\n",
            "[LightGBM] [Warning] No further splits with positive gain, best gain: -inf\n",
            "[LightGBM] [Warning] No further splits with positive gain, best gain: -inf\n",
            "[LightGBM] [Warning] No further splits with positive gain, best gain: -inf\n",
            "[LightGBM] [Warning] No further splits with positive gain, best gain: -inf\n",
            "[LightGBM] [Warning] No further splits with positive gain, best gain: -inf\n",
            "[LightGBM] [Warning] No further splits with positive gain, best gain: -inf\n",
            "[LightGBM] [Warning] No further splits with positive gain, best gain: -inf\n",
            "[LightGBM] [Warning] No further splits with positive gain, best gain: -inf\n",
            "[LightGBM] [Warning] No further splits with positive gain, best gain: -inf\n",
            "[LightGBM] [Warning] No further splits with positive gain, best gain: -inf\n",
            "[LightGBM] [Warning] No further splits with positive gain, best gain: -inf\n",
            "[LightGBM] [Warning] No further splits with positive gain, best gain: -inf\n",
            "[LightGBM] [Warning] No further splits with positive gain, best gain: -inf\n",
            "[LightGBM] [Warning] No further splits with positive gain, best gain: -inf\n",
            "[LightGBM] [Warning] No further splits with positive gain, best gain: -inf\n",
            "[LightGBM] [Warning] No further splits with positive gain, best gain: -inf\n",
            "[LightGBM] [Warning] No further splits with positive gain, best gain: -inf\n",
            "[LightGBM] [Warning] No further splits with positive gain, best gain: -inf\n",
            "[LightGBM] [Warning] No further splits with positive gain, best gain: -inf\n",
            "[LightGBM] [Warning] No further splits with positive gain, best gain: -inf\n",
            "[LightGBM] [Warning] No further splits with positive gain, best gain: -inf\n",
            "[LightGBM] [Warning] No further splits with positive gain, best gain: -inf\n",
            "[LightGBM] [Warning] No further splits with positive gain, best gain: -inf\n",
            "[LightGBM] [Warning] No further splits with positive gain, best gain: -inf\n",
            "[LightGBM] [Warning] No further splits with positive gain, best gain: -inf\n",
            "[LightGBM] [Warning] No further splits with positive gain, best gain: -inf\n",
            "[LightGBM] [Warning] No further splits with positive gain, best gain: -inf\n",
            "[LightGBM] [Warning] No further splits with positive gain, best gain: -inf\n",
            "[LightGBM] [Warning] No further splits with positive gain, best gain: -inf\n",
            "[LightGBM] [Warning] No further splits with positive gain, best gain: -inf\n",
            "[LightGBM] [Warning] No further splits with positive gain, best gain: -inf\n",
            "[LightGBM] [Warning] No further splits with positive gain, best gain: -inf\n",
            "[LightGBM] [Warning] No further splits with positive gain, best gain: -inf\n",
            "[LightGBM] [Warning] No further splits with positive gain, best gain: -inf\n",
            "[LightGBM] [Warning] No further splits with positive gain, best gain: -inf\n",
            "[LightGBM] [Warning] No further splits with positive gain, best gain: -inf\n",
            "[LightGBM] [Warning] No further splits with positive gain, best gain: -inf\n",
            "[LightGBM] [Warning] No further splits with positive gain, best gain: -inf\n",
            "[LightGBM] [Warning] No further splits with positive gain, best gain: -inf\n",
            "[LightGBM] [Warning] No further splits with positive gain, best gain: -inf\n",
            "[LightGBM] [Warning] No further splits with positive gain, best gain: -inf\n",
            "[LightGBM] [Warning] No further splits with positive gain, best gain: -inf\n",
            "[LightGBM] [Warning] No further splits with positive gain, best gain: -inf\n",
            "[LightGBM] [Warning] No further splits with positive gain, best gain: -inf\n",
            "[LightGBM] [Warning] No further splits with positive gain, best gain: -inf\n",
            "[LightGBM] [Warning] No further splits with positive gain, best gain: -inf\n",
            "[LightGBM] [Warning] No further splits with positive gain, best gain: -inf\n",
            "[LightGBM] [Warning] No further splits with positive gain, best gain: -inf\n",
            "[LightGBM] [Warning] No further splits with positive gain, best gain: -inf\n",
            "[LightGBM] [Warning] No further splits with positive gain, best gain: -inf\n",
            "[LightGBM] [Warning] No further splits with positive gain, best gain: -inf\n",
            "[LightGBM] [Warning] No further splits with positive gain, best gain: -inf\n",
            "[LightGBM] [Warning] No further splits with positive gain, best gain: -inf\n",
            "[LightGBM] [Warning] No further splits with positive gain, best gain: -inf\n",
            "[LightGBM] [Warning] No further splits with positive gain, best gain: -inf\n",
            "[LightGBM] [Warning] No further splits with positive gain, best gain: -inf\n",
            "[LightGBM] [Warning] No further splits with positive gain, best gain: -inf\n",
            "[LightGBM] [Warning] No further splits with positive gain, best gain: -inf\n",
            "[LightGBM] [Warning] No further splits with positive gain, best gain: -inf\n",
            "[LightGBM] [Warning] No further splits with positive gain, best gain: -inf\n",
            "[LightGBM] [Warning] No further splits with positive gain, best gain: -inf\n",
            "[LightGBM] [Warning] No further splits with positive gain, best gain: -inf\n",
            "[LightGBM] [Warning] No further splits with positive gain, best gain: -inf\n",
            "[LightGBM] [Warning] No further splits with positive gain, best gain: -inf\n",
            "[LightGBM] [Warning] No further splits with positive gain, best gain: -inf\n",
            "[LightGBM] [Warning] No further splits with positive gain, best gain: -inf\n",
            "[LightGBM] [Warning] No further splits with positive gain, best gain: -inf\n",
            "[LightGBM] [Warning] No further splits with positive gain, best gain: -inf\n",
            "[LightGBM] [Warning] No further splits with positive gain, best gain: -inf\n",
            "[LightGBM] [Warning] No further splits with positive gain, best gain: -inf\n",
            "[LightGBM] [Warning] No further splits with positive gain, best gain: -inf\n",
            "[LightGBM] [Warning] No further splits with positive gain, best gain: -inf\n",
            "Done\n"
          ]
        },
        {
          "output_type": "stream",
          "name": "stderr",
          "text": [
            "/usr/local/lib/python3.12/dist-packages/sklearn/utils/validation.py:2739: UserWarning: X does not have valid feature names, but LGBMRegressor was fitted with feature names\n",
            "  warnings.warn(\n"
          ]
        }
      ]
    },
    {
      "cell_type": "code",
      "source": [
        "cat_reg = cb.CatBoostRegressor(random_state=42, verbose=0)\n",
        "cat_reg.fit(X_train_scaled, y_train)\n",
        "y_pred_cat = cat_reg.predict(X_test_scaled)\n",
        "\n",
        "results['CatBoost Regression'] = {\n",
        "    'R-squared': r2_score(y_test, y_pred_cat),\n",
        "    'MSE': mean_squared_error(y_test, y_pred_cat)\n",
        "}\n",
        "print(\"Done\")"
      ],
      "metadata": {
        "colab": {
          "base_uri": "https://localhost:8080/"
        },
        "id": "Xo3eUgBR451J",
        "outputId": "af72ad62-4b15-43b7-95b6-8ffa9793df3c"
      },
      "execution_count": 25,
      "outputs": [
        {
          "output_type": "stream",
          "name": "stdout",
          "text": [
            "Done\n"
          ]
        }
      ]
    },
    {
      "cell_type": "code",
      "source": [
        "et = ExtraTreesRegressor(random_state=42)\n",
        "et.fit(X_train_scaled, y_train)\n",
        "y_pred_et = et.predict(X_test_scaled)\n",
        "\n",
        "results['Extra Trees Regression'] = {\n",
        "    'R-squared': r2_score(y_test, y_pred_et),\n",
        "    'MSE': mean_squared_error(y_test, y_pred_et)\n",
        "}\n",
        "print(\"Done\")"
      ],
      "metadata": {
        "colab": {
          "base_uri": "https://localhost:8080/"
        },
        "id": "nOKgYxym4-uW",
        "outputId": "80c70cb5-e417-44b5-fad9-31d9e84b482c"
      },
      "execution_count": 26,
      "outputs": [
        {
          "output_type": "stream",
          "name": "stdout",
          "text": [
            "Done\n"
          ]
        }
      ]
    },
    {
      "cell_type": "code",
      "source": [
        "svr = SVR(kernel='linear')\n",
        "svr.fit(X_train_scaled, y_train)\n",
        "y_pred_svr = svr.predict(X_test_scaled)\n",
        "\n",
        "results['SVR (Linear Kernel)'] = {\n",
        "    'R-squared': r2_score(y_test, y_pred_svr),\n",
        "    'MSE': mean_squared_error(y_test, y_pred_svr)\n",
        "}\n",
        "print(\"Done\")"
      ],
      "metadata": {
        "colab": {
          "base_uri": "https://localhost:8080/"
        },
        "id": "858yjUXT5D9Q",
        "outputId": "09e8092c-1f7b-4bfa-917e-9269b342dbae"
      },
      "execution_count": 27,
      "outputs": [
        {
          "output_type": "stream",
          "name": "stdout",
          "text": [
            "Done\n"
          ]
        }
      ]
    },
    {
      "cell_type": "code",
      "source": [
        "bayesian_ridge = BayesianRidge()\n",
        "bayesian_ridge.fit(X_train_scaled, y_train)\n",
        "y_pred_bayesian = bayesian_ridge.predict(X_test_scaled)\n",
        "\n",
        "results['Bayesian Linear Regression'] = {\n",
        "    'R-squared': r2_score(y_test, y_pred_bayesian),\n",
        "    'MSE': mean_squared_error(y_test, y_pred_bayesian)\n",
        "}\n",
        "print(\"Done\")"
      ],
      "metadata": {
        "colab": {
          "base_uri": "https://localhost:8080/"
        },
        "id": "KQL-_XLL5LQZ",
        "outputId": "205d53c1-8d89-498e-826d-8e93e4337d2b"
      },
      "execution_count": 28,
      "outputs": [
        {
          "output_type": "stream",
          "name": "stdout",
          "text": [
            "Done\n"
          ]
        }
      ]
    },
    {
      "cell_type": "code",
      "source": [
        "knn = KNeighborsRegressor()\n",
        "knn.fit(X_train_scaled, y_train)\n",
        "y_pred_knn = knn.predict(X_test_scaled)\n",
        "\n",
        "results['k-Nearest Neighbors Regression'] = {\n",
        "    'R-squared': r2_score(y_test, y_pred_knn),\n",
        "    'MSE': mean_squared_error(y_test, y_pred_knn)\n",
        "}\n",
        "print(\"Done\")"
      ],
      "metadata": {
        "colab": {
          "base_uri": "https://localhost:8080/"
        },
        "id": "dVf2bKpb5WCP",
        "outputId": "d7f269cd-4868-4062-e778-17ba69c9a877"
      },
      "execution_count": 29,
      "outputs": [
        {
          "output_type": "stream",
          "name": "stdout",
          "text": [
            "Done\n"
          ]
        }
      ]
    },
    {
      "cell_type": "code",
      "source": [
        "mlp = MLPRegressor(random_state=42, max_iter=500)\n",
        "mlp.fit(X_train_scaled, y_train)\n",
        "y_pred_mlp = mlp.predict(X_test_scaled)\n",
        "\n",
        "results['Neural Networks Regression (MLP)'] = {\n",
        "    'R-squared': r2_score(y_test, y_pred_mlp),\n",
        "    'MSE': mean_squared_error(y_test, y_pred_mlp)\n",
        "}\n",
        "print(\"Done\")"
      ],
      "metadata": {
        "colab": {
          "base_uri": "https://localhost:8080/"
        },
        "id": "WqgLtMoa5gL_",
        "outputId": "65b29e29-51b1-4c52-b1e8-294edadcc5bd"
      },
      "execution_count": 30,
      "outputs": [
        {
          "output_type": "stream",
          "name": "stdout",
          "text": [
            "Done\n"
          ]
        },
        {
          "output_type": "stream",
          "name": "stderr",
          "text": [
            "/usr/local/lib/python3.12/dist-packages/sklearn/neural_network/_multilayer_perceptron.py:691: ConvergenceWarning: Stochastic Optimizer: Maximum iterations (500) reached and the optimization hasn't converged yet.\n",
            "  warnings.warn(\n"
          ]
        }
      ]
    },
    {
      "cell_type": "code",
      "source": [
        "print(\"Regression Model Evaluation Results:\")\n",
        "for model, metrics in results.items():\n",
        "    print(f\"\\n{model}:\")\n",
        "    for metric, value in metrics.items():\n",
        "        print(f\"  {metric}: {value:.4f}\" if isinstance(value, float) else f\"  {metric}: {value}\")\n"
      ],
      "metadata": {
        "colab": {
          "base_uri": "https://localhost:8080/"
        },
        "id": "gLRhM_u1CA0O",
        "outputId": "5993cb6c-0766-4d12-8acd-d93b17f9142a"
      },
      "execution_count": 31,
      "outputs": [
        {
          "output_type": "stream",
          "name": "stdout",
          "text": [
            "Regression Model Evaluation Results:\n",
            "\n",
            "Linear Regression:\n",
            "  R-squared: 0.5143\n",
            "  MSE: 2762118.9644\n",
            "\n",
            "Polynomial Regression:\n",
            "  R-squared: 0.4986\n",
            "  MSE: 2851476.5863\n",
            "\n",
            "Ridge Regression:\n",
            "  R-squared: 0.5140\n",
            "  MSE: 2764112.0502\n",
            "\n",
            "Lasso Regression:\n",
            "  R-squared: 0.5140\n",
            "  MSE: 2764097.8804\n",
            "\n",
            "Elastic Net Regression:\n",
            "  R-squared: 0.4038\n",
            "  MSE: 3390872.0190\n",
            "\n",
            "Decision Tree Regression:\n",
            "  R-squared: 0.3764\n",
            "  MSE: 3546596.9797\n",
            "\n",
            "Stepwise Regression:\n",
            "  R-squared: 0.5133\n",
            "  MSE: 2768225.9895\n",
            "\n",
            "Quantile Regression (Median):\n",
            "  R-squared: 0.4762\n",
            "  MSE: 2979109.4511\n",
            "\n",
            "Robust Regression (Huber):\n",
            "  R-squared: 0.4786\n",
            "  MSE: 2965698.9405\n",
            "\n",
            "Random Forest Regression:\n",
            "  R-squared: 0.5023\n",
            "  MSE: 2830602.1674\n",
            "\n",
            "XGBoost Regression:\n",
            "  R-squared: 0.3357\n",
            "  MSE: 3777974.0300\n",
            "\n",
            "LightGBM Regression:\n",
            "  R-squared: 0.4808\n",
            "  MSE: 2953157.2845\n",
            "\n",
            "CatBoost Regression:\n",
            "  R-squared: 0.4492\n",
            "  MSE: 3132842.3885\n",
            "\n",
            "Extra Trees Regression:\n",
            "  R-squared: 0.4534\n",
            "  MSE: 3108930.5500\n",
            "\n",
            "SVR (Linear Kernel):\n",
            "  R-squared: 0.1145\n",
            "  MSE: 5036069.4778\n",
            "\n",
            "Bayesian Linear Regression:\n",
            "  R-squared: 0.5121\n",
            "  MSE: 2774667.2144\n",
            "\n",
            "k-Nearest Neighbors Regression:\n",
            "  R-squared: 0.4744\n",
            "  MSE: 2989084.6172\n",
            "\n",
            "Neural Networks Regression (MLP):\n",
            "  R-squared: -0.0799\n",
            "  MSE: 6141852.0230\n"
          ]
        }
      ]
    },
    {
      "cell_type": "code",
      "metadata": {
        "colab": {
          "base_uri": "https://localhost:8080/"
        },
        "id": "490b792e",
        "outputId": "15211260-7ed7-4e91-afe2-edcfcb3b8dc1"
      },
      "source": [
        "print(\"Regression Model Comparison:\")\n",
        "print(\"-\" * 60)\n",
        "print(f\"{'Model':<30} | {'R-squared':<10} | {'MSE':<10}\")\n",
        "print(\"-\" * 60)\n",
        "\n",
        "for model, metrics in results.items():\n",
        "    r_squared = metrics['R-squared']\n",
        "    mse = metrics['MSE']\n",
        "    print(f\"{model:<30} | {r_squared:<10.4f} | {mse:<10.4f}\")\n",
        "\n",
        "print(\"-\" * 60)"
      ],
      "execution_count": 32,
      "outputs": [
        {
          "output_type": "stream",
          "name": "stdout",
          "text": [
            "Regression Model Comparison:\n",
            "------------------------------------------------------------\n",
            "Model                          | R-squared  | MSE       \n",
            "------------------------------------------------------------\n",
            "Linear Regression              | 0.5143     | 2762118.9644\n",
            "Polynomial Regression          | 0.4986     | 2851476.5863\n",
            "Ridge Regression               | 0.5140     | 2764112.0502\n",
            "Lasso Regression               | 0.5140     | 2764097.8804\n",
            "Elastic Net Regression         | 0.4038     | 3390872.0190\n",
            "Decision Tree Regression       | 0.3764     | 3546596.9797\n",
            "Stepwise Regression            | 0.5133     | 2768225.9895\n",
            "Quantile Regression (Median)   | 0.4762     | 2979109.4511\n",
            "Robust Regression (Huber)      | 0.4786     | 2965698.9405\n",
            "Random Forest Regression       | 0.5023     | 2830602.1674\n",
            "XGBoost Regression             | 0.3357     | 3777974.0300\n",
            "LightGBM Regression            | 0.4808     | 2953157.2845\n",
            "CatBoost Regression            | 0.4492     | 3132842.3885\n",
            "Extra Trees Regression         | 0.4534     | 3108930.5500\n",
            "SVR (Linear Kernel)            | 0.1145     | 5036069.4778\n",
            "Bayesian Linear Regression     | 0.5121     | 2774667.2144\n",
            "k-Nearest Neighbors Regression | 0.4744     | 2989084.6172\n",
            "Neural Networks Regression (MLP) | -0.0799    | 6141852.0230\n",
            "------------------------------------------------------------\n"
          ]
        }
      ]
    },
    {
      "cell_type": "markdown",
      "metadata": {
        "id": "5b183167"
      },
      "source": [
        "## Regression Model Comparison and Analysis\n",
        "\n",
        "Based on the R-squared and Mean Squared Error (MSE) metrics, here is a comparison of the implemented regression models:\n",
        "\n",
        "| Model                          | R-squared | MSE         |\n",
        "|--------------------------------|-----------|-------------|\n",
        "| Linear Regression              | 0.5143    | 2762118.96  |\n",
        "| Polynomial Regression          | 0.4986    | 2851476.59  |\n",
        "| Ridge Regression               | 0.5140    | 2764112.05  |\n",
        "| Lasso Regression               | 0.5140    | 2764097.88  |\n",
        "| Elastic Net Regression         | 0.4038    | 3390872.02  |\n",
        "| Decision Tree Regression       | 0.3764    | 3546596.98  |\n",
        "| Stepwise Regression            | 0.5133    | 2768225.99  |\n",
        "| Quantile Regression (Median)   | 0.4762    | 2979109.45  |\n",
        "| Robust Regression (Huber)      | 0.4786    | 2965698.94  |\n",
        "| Random Forest Regression       | 0.5023    | 2830602.17  |\n",
        "| XGBoost Regression             | 0.3357    | 3777974.03  |\n",
        "| LightGBM Regression            | 0.4808    | 2953157.28  |\n",
        "| CatBoost Regression            | 0.4492    | 3132842.39  |\n",
        "| Extra Trees Regression         | 0.4534    | 3108930.55  |\n",
        "| SVR (Linear Kernel)            | 0.1145    | 5036069.48  |\n",
        "| Bayesian Linear Regression     | 0.5121    | 2774667.21  |\n",
        "| k-Nearest Neighbors Regression | 0.4744    | 2989084.62  |\n",
        "| Neural Networks Regression (MLP) | -0.0799   | 6141852.02  |\n",
        "\n",
        "**Analysis:**\n",
        "\n",
        "*   **Best Performing Models:** Linear Regression, Ridge Regression, Lasso Regression, Stepwise Regression, and Bayesian Linear Regression achieved the highest R-squared values and lowest MSE, indicating they explained the most variance in the target variable and had the lowest prediction errors. These models are all variations of linear models, suggesting a predominantly linear relationship between the features and the target variable ('product_price') after the initial data cleaning and preprocessing.\n",
        "*   **Tree-Based Models (Decision Tree, Random Forest, XGBoost, LightGBM, Extra Trees):** These models generally performed worse than the linear models in terms of R-squared and MSE. This could be due to the nature of the data and the strong linear trends present. While these models are powerful for capturing non-linearities and interactions, they may not offer significant advantages when the underlying relationship is primarily linear. XGBoost performed particularly poorly, which might be due to the default hyperparameters not being suitable for this dataset.\n",
        "*   **Support Vector Regression (SVR):** The linear kernel SVR performed poorly, indicating that a linear boundary is not effective in capturing the relationship between features and the target variable for this model. Exploring different kernels (e.g., RBF, polynomial) and tuning hyperparameters might improve its performance.\n",
        "*   **k-Nearest Neighbors (KNN) and Neural Networks (MLP):** KNN and MLP also showed lower performance compared to the linear models. KNN's performance can be sensitive to the scaling of features and the choice of 'k'. The MLP model showed a negative R-squared, which suggests that the model is performing worse than simply predicting the mean of the target variable. This could be due to issues with model complexity, training parameters (like `max_iter` which resulted in a convergence warning), or the size of the dataset for training a neural network effectively.\n",
        "*   **Robust and Quantile Regression:** These models performed moderately well. Robust regression is designed to be less sensitive to outliers, which might be beneficial in datasets with extreme values. Quantile regression can be useful for modeling different parts of the target distribution, not just the mean.\n",
        "\n",
        "**Conclusion:**\n",
        "\n",
        "For this specific dataset, linear models appear to be the most effective based on the evaluation metrics. Linear Regression, Ridge, Lasso, Stepwise, and Bayesian Linear Regression provide the best balance of performance and simplicity. Further hyperparameter tuning for all models, especially the tree-based models and SVR, could potentially improve their performance. Additionally, investigating the reasons for the poor performance of the Neural Network could involve trying different network architectures, activation functions, optimizers, and increasing the number of training epochs."
      ]
    }
  ]
}